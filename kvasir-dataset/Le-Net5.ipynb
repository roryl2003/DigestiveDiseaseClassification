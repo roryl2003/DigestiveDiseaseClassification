{
 "cells": [
  {
   "cell_type": "code",
   "execution_count": 2,
   "metadata": {},
   "outputs": [],
   "source": [
    "import os\n",
    "import copy\n",
    "from sklearn.model_selection import train_test_split\n",
    "from tqdm import tqdm_notebook as tqdm\n",
    "import glob\n",
    "import numpy as np\n",
    "import tensorflow as tf\n",
    "from skimage.io import imread, imsave\n",
    "from tensorflow.keras.preprocessing.image import ImageDataGenerator\n",
    "import matplotlib.pyplot as plt\n",
    "from sklearn.metrics import confusion_matrix, ConfusionMatrixDisplay, plot_confusion_matrix\n",
    "from sklearn import svm\n",
    "from PIL import Image"
   ]
  },
  {
   "cell_type": "code",
   "execution_count": 3,
   "metadata": {},
   "outputs": [],
   "source": [
    "src = '/Users/roryliao/Desktop/kvasir-dataset/Images'\n",
    "train_dir = '/Users/roryliao/Desktop/kvasir-dataset/Train'\n",
    "test_dir = '/Users/roryliao/Desktop/kvasir-dataset/Test'\n",
    "train_padded_dir = '/Users/roryliao/Desktop/kvasir-dataset/Train_Padded'\n",
    "test_padded_dir = '/Users/roryliao/Desktop/kvasir-dataset/Test_Padded'"
   ]
  },
  {
   "cell_type": "code",
   "execution_count": 4,
   "metadata": {},
   "outputs": [],
   "source": [
    "train_datagen = ImageDataGenerator(width_shift_range = 0.2, height_shift_range = 0.2, horizontal_flip = True, vertical_flip = True, rescale=1/255, rotation_range = 90, validation_split = 0.1)\n",
    "#Look up documentation. Look at creating new data using rotations\n",
    "test_datagen = ImageDataGenerator(rescale=1/255)"
   ]
  },
  {
   "cell_type": "code",
   "execution_count": 5,
   "metadata": {},
   "outputs": [
    {
     "name": "stdout",
     "output_type": "stream",
     "text": [
      "Found 2883 images belonging to 8 classes.\n",
      "Found 317 images belonging to 8 classes.\n",
      "Found 800 images belonging to 8 classes.\n"
     ]
    }
   ],
   "source": [
    "train_gen = train_datagen.flow_from_directory(train_dir, batch_size = 2, seed = 42, subset = 'training', target_size = (256, 256))\n",
    "val_gen = train_datagen.flow_from_directory(train_dir, batch_size = 2, seed = 42, subset = 'validation', target_size = (256, 256))\n",
    "test_gen = test_datagen.flow_from_directory(test_dir, batch_size = 2, shuffle = False, target_size = (256, 256))"
   ]
  },
  {
   "cell_type": "code",
   "execution_count": 12,
   "metadata": {},
   "outputs": [],
   "source": [
    "pool_size = (2,2)\n",
    "kernal_size = (3,3)\n",
    "#Look into Regularization\n",
    "#Decrease number of neurons in the Dense Layers\n",
    "#Look into Auto Encoders\n",
    "#Benchmark of 75%\n",
    "#Adding more dense layers\n",
    "\n",
    "x_in = tf.keras.layers.Input(shape=(256, 256, 3))\n",
    "\n",
    "x = tf.keras.layers.Conv2D(filters=8, kernel_size=kernal_size, activation='relu')(x_in)\n",
    "x = tf.keras.layers.MaxPool2D(pool_size=pool_size, strides = 2)(x)\n",
    "\n",
    "x_flatten = tf.keras.layers.Flatten()(x)\n",
    "x_flatten = tf.keras.layers.Flatten()(x_flatten)\n",
    "\n",
    "x = tf.keras.layers.Dense(32, activation='relu')(x_flatten)\n",
    "#Look into adding a Dense layer here\n",
    "\n",
    "x_out = tf.keras.layers.Dense(8, activation='softmax')(x)"
   ]
  },
  {
   "cell_type": "code",
   "execution_count": 13,
   "metadata": {},
   "outputs": [
    {
     "name": "stdout",
     "output_type": "stream",
     "text": [
      "Model: \"model_2\"\n",
      "_________________________________________________________________\n",
      "Layer (type)                 Output Shape              Param #   \n",
      "=================================================================\n",
      "input_3 (InputLayer)         [(None, 256, 256, 3)]     0         \n",
      "_________________________________________________________________\n",
      "conv2d_3 (Conv2D)            (None, 254, 254, 8)       224       \n",
      "_________________________________________________________________\n",
      "max_pooling2d_2 (MaxPooling2 (None, 127, 127, 8)       0         \n",
      "_________________________________________________________________\n",
      "flatten_3 (Flatten)          (None, 129032)            0         \n",
      "_________________________________________________________________\n",
      "flatten_4 (Flatten)          (None, 129032)            0         \n",
      "_________________________________________________________________\n",
      "dense_4 (Dense)              (None, 32)                4129056   \n",
      "_________________________________________________________________\n",
      "dense_5 (Dense)              (None, 8)                 264       \n",
      "=================================================================\n",
      "Total params: 4,129,544\n",
      "Trainable params: 4,129,544\n",
      "Non-trainable params: 0\n",
      "_________________________________________________________________\n"
     ]
    }
   ],
   "source": [
    "model = tf.keras.Model(x_in, x_out)\n",
    "model.summary()"
   ]
  },
  {
   "cell_type": "code",
   "execution_count": 14,
   "metadata": {},
   "outputs": [],
   "source": [
    "model.compile(optimizer='adam', loss='categorical_crossentropy',metrics=['acc'])"
   ]
  },
  {
   "cell_type": "code",
   "execution_count": 15,
   "metadata": {},
   "outputs": [
    {
     "name": "stdout",
     "output_type": "stream",
     "text": [
      "Epoch 1/10\n",
      "1442/1442 [==============================] - 129s 90ms/step - loss: 2.1869 - acc: 0.1148 - val_loss: 2.0794 - val_acc: 0.1293\n",
      "Epoch 2/10\n",
      "1442/1442 [==============================] - 116s 81ms/step - loss: 2.0802 - acc: 0.1224 - val_loss: 2.0794 - val_acc: 0.1293\n",
      "Epoch 3/10\n",
      "1442/1442 [==============================] - 124s 86ms/step - loss: 2.0826 - acc: 0.1183 - val_loss: 2.0794 - val_acc: 0.1293\n",
      "Epoch 4/10\n",
      "1442/1442 [==============================] - 122s 85ms/step - loss: 2.0801 - acc: 0.1283 - val_loss: 2.0794 - val_acc: 0.1293\n",
      "Epoch 5/10\n",
      "1442/1442 [==============================] - 119s 83ms/step - loss: 2.0802 - acc: 0.1245 - val_loss: 2.0794 - val_acc: 0.1293\n",
      "Epoch 6/10\n",
      "1442/1442 [==============================] - 135s 94ms/step - loss: 2.0801 - acc: 0.1179 - val_loss: 2.0794 - val_acc: 0.1293\n",
      "Epoch 7/10\n",
      "1442/1442 [==============================] - 121s 84ms/step - loss: 2.0802 - acc: 0.1221 - val_loss: 2.0794 - val_acc: 0.1293\n",
      "Epoch 8/10\n",
      "1442/1442 [==============================] - 119s 83ms/step - loss: 2.0802 - acc: 0.1231 - val_loss: 2.0793 - val_acc: 0.1293\n",
      "Epoch 9/10\n",
      "1442/1442 [==============================] - 126s 88ms/step - loss: 2.0802 - acc: 0.1221 - val_loss: 2.0794 - val_acc: 0.1262\n",
      "Epoch 10/10\n",
      "1442/1442 [==============================] - 131s 91ms/step - loss: 2.0802 - acc: 0.1155 - val_loss: 2.0794 - val_acc: 0.1262\n"
     ]
    }
   ],
   "source": [
    "history = model.fit_generator(train_gen, steps_per_epoch=len(train_gen), epochs=10, validation_data=val_gen, validation_steps=len(val_gen))"
   ]
  },
  {
   "cell_type": "code",
   "execution_count": 11,
   "metadata": {},
   "outputs": [],
   "source": [
    "def show_final_history(history):\n",
    "    fig, ax = plt.subplots(1, 2, figsize=(15,5))\n",
    "    ax[0].set_title('loss')\n",
    "    ax[0].plot(history.epoch, history.history[\"loss\"], label=\"Train loss\")\n",
    "    ax[0].plot(history.epoch, history.history[\"val_loss\"], label=\"Validation loss\")\n",
    "    ax[0].set(xlim=(0, 9), ylim=(1, 2.5))\n",
    "    ax[0].set_xlabel('Epochs')\n",
    "    ax[1].set_title('acc')\n",
    "    ax[1].plot(history.epoch, history.history[\"acc\"], label=\"Train acc\")\n",
    "    ax[1].plot(history.epoch, history.history[\"val_acc\"], label=\"Validation acc\")\n",
    "    ax[1].set(xlim=(0, 9), ylim=(0, 1))\n",
    "    ax[1].set_xlabel('Epochs')\n",
    "    ax[0].legend()\n",
    "    ax[1].legend()"
   ]
  },
  {
   "cell_type": "code",
   "execution_count": null,
   "metadata": {},
   "outputs": [],
   "source": [
    "show_final_history(history)"
   ]
  }
 ],
 "metadata": {
  "kernelspec": {
   "display_name": "Python 3",
   "language": "python",
   "name": "python3"
  },
  "language_info": {
   "codemirror_mode": {
    "name": "ipython",
    "version": 3
   },
   "file_extension": ".py",
   "mimetype": "text/x-python",
   "name": "python",
   "nbconvert_exporter": "python",
   "pygments_lexer": "ipython3",
   "version": "3.7.3"
  }
 },
 "nbformat": 4,
 "nbformat_minor": 2
}
