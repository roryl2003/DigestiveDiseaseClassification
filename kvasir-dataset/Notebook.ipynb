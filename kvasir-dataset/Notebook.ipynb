{
 "cells": [
  {
   "cell_type": "code",
   "execution_count": 58,
   "metadata": {},
   "outputs": [],
   "source": [
    "import os\n",
    "import copy\n",
    "from sklearn.model_selection import train_test_split\n",
    "from tqdm import tqdm_notebook as tqdm\n",
    "import glob\n",
    "import numpy as np\n",
    "import tensorflow as tf\n",
    "from skimage.io import imread, imsave\n",
    "from tensorflow.keras.preprocessing.image import ImageDataGenerator\n",
    "import matplotlib.pyplot as plt\n",
    "from sklearn.metrics import confusion_matrix, ConfusionMatrixDisplay, plot_confusion_matrix\n",
    "from sklearn import svm\n",
    "from PIL import Image\n",
    "import random"
   ]
  },
  {
   "cell_type": "code",
   "execution_count": 14,
   "metadata": {},
   "outputs": [],
   "source": [
    "src = '/Users/roryliao/Desktop/kvasir-dataset/Images'\n",
    "train_dir = '/Users/roryliao/Desktop/kvasir-dataset/Train'\n",
    "test_dir = '/Users/roryliao/Desktop/kvasir-dataset/Test'\n",
    "train_padded_dir = '/Users/roryliao/Desktop/kvasir-dataset/Train_Padded'\n",
    "test_padded_dir = '/Users/roryliao/Desktop/kvasir-dataset/Test_Padded'\n",
    "test_size = 0.2"
   ]
  },
  {
   "cell_type": "code",
   "execution_count": 23,
   "metadata": {},
   "outputs": [
    {
     "data": {
      "text/plain": [
       "4000"
      ]
     },
     "execution_count": 23,
     "metadata": {},
     "output_type": "execute_result"
    }
   ],
   "source": [
    "img_paths = glob.glob(os.path.join(src, '*/*.jpg'))\n",
    "parent_names = [os.path.basename(os.path.abspath(os.path.join(p, os.pardir))) for p in img_paths]\n",
    "labels = np.asarray([1 if p == 'dyed-lifted-polyps' else 0 if p == 'dyed-resection-margins' else 2 if p == 'esophagitis'\n",
    "                    else 3 if p == 'normal-cecum' else 4 if p == 'normal-pylorus' else 5 if p == 'normal-z-line'\n",
    "                    else 6 if p == 'polyps' else 7 for p in parent_names])\n",
    "imgs = np.asarray([imread(p) for p in img_paths])\n",
    "len(img_paths)"
   ]
  },
  {
   "cell_type": "code",
   "execution_count": 144,
   "metadata": {},
   "outputs": [],
   "source": [
    "x_train, x_test, y_train, y_test = train_test_split(imgs, labels, test_size = 0.2, random_state = 1)"
   ]
  },
  {
   "cell_type": "code",
   "execution_count": 145,
   "metadata": {},
   "outputs": [
    {
     "data": {
      "text/plain": [
       "array([2, 1, 6, 3, 1, 3, 5, 6, 1, 6, 2, 0, 1, 4, 1, 3, 2, 3, 1, 1, 1, 1,\n",
       "       7, 6, 0, 2, 2, 5, 5, 1, 4, 6, 2, 4, 2, 1, 6, 6, 5, 5, 1, 0, 6, 4,\n",
       "       0, 3, 0, 7, 4, 5, 5, 2, 6, 6, 2, 3, 6, 1, 5, 3, 6, 1, 6, 4, 3, 1,\n",
       "       4, 4, 2, 0, 6, 1, 1, 6, 5, 0, 4, 1, 1, 2, 3, 2, 2, 5, 7, 4, 4, 2,\n",
       "       6, 4, 2, 6, 5, 5, 0, 1, 0, 2, 7, 7, 0, 2, 2, 4, 6, 2, 7, 7, 5, 0,\n",
       "       0, 7, 4, 3, 2, 4, 2, 4, 2, 7, 4, 7, 4, 4, 5, 4, 5, 2, 7, 0, 1, 4,\n",
       "       5, 5, 5, 0, 6, 5, 5, 5, 5, 2, 7, 2, 1, 7, 5, 5, 4, 2, 5, 4, 7, 0,\n",
       "       6, 2, 1, 2, 0, 4, 0, 3, 4, 6, 5, 6, 5, 3, 3, 4, 6, 5, 6, 2, 7, 4,\n",
       "       6, 6, 4, 3, 2, 1, 5, 7, 6, 7, 6, 0, 6, 4, 1, 7, 0, 0, 2, 3, 3, 3,\n",
       "       5, 2, 5, 0, 2, 2, 3, 2, 7, 6, 5, 0, 2, 0, 3, 7, 5, 5, 0, 1, 2, 5,\n",
       "       4, 4, 0, 3, 5, 3, 5, 3, 0, 7, 5, 5, 3, 6, 5, 6, 5, 5, 5, 2, 3, 1,\n",
       "       1, 0, 7, 4, 3, 0, 0, 7, 7, 7, 2, 0, 3, 7, 5, 7, 3, 4, 1, 5, 1, 0,\n",
       "       4, 6, 6, 2, 5, 3, 6, 4, 5, 4, 2, 3, 3, 4, 4, 6, 3, 1, 7, 3, 0, 4,\n",
       "       3, 6, 7, 2, 2, 1, 3, 3, 1, 7, 3, 7, 4, 1, 3, 0, 6, 0, 1, 1, 5, 1,\n",
       "       3, 4, 0, 1, 6, 3, 7, 4, 6, 2, 1, 6, 4, 0, 3, 5, 0, 3, 2, 4, 2, 4,\n",
       "       2, 6, 6, 3, 0, 6, 6, 4, 2, 7, 3, 7, 3, 6, 1, 4, 1, 6, 1, 4, 5, 6,\n",
       "       0, 4, 6, 5, 6, 7, 2, 6, 5, 1, 0, 3, 2, 7, 0, 1, 0, 4, 0, 3, 4, 0,\n",
       "       3, 7, 5, 0, 0, 5, 5, 6, 4, 0, 4, 5, 3, 5, 2, 2, 4, 3, 0, 1, 2, 7,\n",
       "       3, 1, 2, 6, 3, 1, 5, 4, 2, 3, 1, 6, 3, 4, 2, 3, 0, 4, 4, 0, 5, 3,\n",
       "       3, 6, 2, 4, 0, 6, 5, 2, 1, 5, 4, 7, 7, 0, 3, 0, 3, 0, 6, 5, 4, 0,\n",
       "       2, 4, 6, 6, 7, 1, 6, 0, 3, 6, 6, 3, 6, 6, 7, 1, 6, 3, 0, 7, 3, 6,\n",
       "       4, 4, 1, 5, 1, 7, 7, 2, 5, 3, 7, 3, 0, 0, 2, 6, 4, 0, 1, 3, 2, 4,\n",
       "       6, 0, 6, 3, 1, 7, 6, 4, 3, 4, 5, 3, 7, 5, 5, 3, 6, 3, 2, 4, 4, 0,\n",
       "       3, 0, 4, 1, 2, 1, 3, 6, 2, 1, 5, 1, 4, 5, 5, 6, 7, 1, 2, 0, 2, 6,\n",
       "       5, 2, 0, 5, 3, 7, 7, 5, 4, 5, 0, 0, 4, 3, 4, 7, 2, 3, 4, 1, 2, 5,\n",
       "       4, 1, 5, 2, 4, 5, 6, 7, 7, 7, 2, 7, 7, 5, 2, 4, 4, 7, 7, 3, 6, 4,\n",
       "       1, 0, 6, 5, 1, 5, 2, 1, 6, 3, 6, 2, 6, 1, 0, 2, 5, 7, 0, 0, 6, 6,\n",
       "       4, 3, 1, 2, 2, 5, 0, 7, 1, 3, 1, 1, 3, 3, 6, 1, 1, 4, 1, 0, 1, 5,\n",
       "       0, 7, 3, 1, 2, 0, 1, 1, 5, 0, 2, 0, 1, 0, 7, 7, 3, 7, 7, 0, 4, 1,\n",
       "       6, 7, 3, 6, 2, 2, 3, 7, 6, 1, 5, 5, 0, 4, 7, 2, 7, 2, 4, 2, 4, 4,\n",
       "       2, 5, 4, 5, 2, 2, 5, 4, 2, 1, 6, 1, 1, 1, 5, 7, 2, 3, 5, 2, 7, 1,\n",
       "       1, 7, 4, 4, 2, 3, 4, 1, 6, 1, 3, 6, 7, 2, 5, 5, 4, 6, 1, 3, 5, 5,\n",
       "       4, 3, 3, 7, 4, 7, 6, 0, 4, 1, 0, 6, 1, 1, 4, 7, 0, 2, 0, 5, 4, 4,\n",
       "       7, 7, 7, 0, 7, 1, 6, 5, 5, 3, 6, 2, 6, 1, 0, 2, 7, 4, 4, 2, 5, 2,\n",
       "       0, 2, 2, 4, 4, 0, 2, 5, 4, 0, 6, 5, 3, 2, 6, 7, 6, 3, 3, 7, 7, 2,\n",
       "       7, 0, 4, 2, 1, 6, 0, 7, 3, 7, 1, 5, 5, 4, 1, 1, 4, 3, 4, 2, 0, 6,\n",
       "       3, 1, 5, 5, 6, 7, 4, 0])"
      ]
     },
     "execution_count": 145,
     "metadata": {},
     "output_type": "execute_result"
    }
   ],
   "source": [
    "y_test"
   ]
  },
  {
   "cell_type": "code",
   "execution_count": 86,
   "metadata": {},
   "outputs": [],
   "source": [
    "#len(y_train)"
   ]
  },
  {
   "cell_type": "code",
   "execution_count": null,
   "metadata": {},
   "outputs": [],
   "source": [
    "dyed_lifted_polyps_dir = os.path.join(train_padded_dir, 'dyed-lifted-polyps')\n",
    "dyed_resection_margins_dir = os.path.join(train_padded_dir, 'dyed-resection-margins')\n",
    "esophagitis_dir = os.path.join(train_padded_dir, 'esophagitis')\n",
    "normal_cecum_dir = os.path.join(train_padded_dir, 'normal-cecum')\n",
    "normal_pylorus_dir = os.path.join(train_padded_dir, 'normal-pylorus')\n",
    "normal_z_line_dir = os.path.join(train_padded_dir, 'normal-z-line')\n",
    "polyps_dir = os.path.join(train_padded_dir, 'polyps')\n",
    "ulcerative_colitis_dir = os.path.join(train_padded_dir, 'ulcerative-colitis')"
   ]
  },
  {
   "cell_type": "code",
   "execution_count": null,
   "metadata": {},
   "outputs": [],
   "source": [
    "os.makedirs(dyed_lifted_polyps_dir, exist_ok=True)\n",
    "os.makedirs(dyed_resection_margins_dir, exist_ok=True)\n",
    "os.makedirs(esophagitis_dir, exist_ok=True)\n",
    "os.makedirs(normal_cecum_dir, exist_ok=True)\n",
    "os.makedirs(normal_pylorus_dir, exist_ok=True)\n",
    "os.makedirs(normal_z_line_dir, exist_ok=True)\n",
    "os.makedirs(polyps_dir, exist_ok=True)\n",
    "os.makedirs(ulcerative_colitis_dir, exist_ok=True)"
   ]
  },
  {
   "cell_type": "code",
   "execution_count": null,
   "metadata": {},
   "outputs": [],
   "source": [
    "'''for i, (x, y) in enumerate(zip(x_train, y_train)):\n",
    "    if y == 0:\n",
    "        output_path = os.path.join(dyed_resection_margins_dir, f\"{i:06d}.jpg\")\n",
    "    elif y == 1:\n",
    "        output_path = os.path.join(dyed_lifted_polyps_dir, f\"{i:06d}.jpg\")\n",
    "    elif y == 2:\n",
    "        output_path = os.path.join(esophagitis_dir, f\"{i:06d}.jpg\")\n",
    "    elif y == 3:\n",
    "        output_path = os.path.join(normal_cecum_dir, f\"{i:06d}.jpg\")\n",
    "    elif y == 4:\n",
    "        output_path = os.path.join(normal_pylorus_dir, f\"{i:06d}.jpg\")\n",
    "    elif y == 5:\n",
    "        output_path = os.path.join(normal_z_line_dir, f\"{i:06d}.jpg\")\n",
    "    elif y == 6:\n",
    "        output_path = os.path.join(polyps_dir, f\"{i:06d}.jpg\")\n",
    "    else:\n",
    "        output_path = os.path.join(ulcerative_colitis_dir, f\"{i:06d}.jpg\")\n",
    "    imsave(output_path, x)'''"
   ]
  },
  {
   "cell_type": "code",
   "execution_count": 150,
   "metadata": {},
   "outputs": [],
   "source": [
    "dyed_lifted_polyps_dir = os.path.join(test_dir, 'dyed-lifted-polyps')\n",
    "dyed_resection_margins_dir = os.path.join(test_dir, 'dyed-resection-margins')\n",
    "esophagitis_dir = os.path.join(test_dir, 'esophagitis')\n",
    "normal_cecum_dir = os.path.join(test_dir, 'normal-cecum')\n",
    "normal_pylorus_dir = os.path.join(test_dir, 'normal-pylorus')\n",
    "normal_z_line_dir = os.path.join(test_dir, 'normal-z-line')\n",
    "polyps_dir = os.path.join(test_dir, 'polyps')\n",
    "ulcerative_colitis_dir = os.path.join(test_dir, 'ulcerative-colitis')"
   ]
  },
  {
   "cell_type": "code",
   "execution_count": 151,
   "metadata": {},
   "outputs": [],
   "source": [
    "os.makedirs(dyed_lifted_polyps_dir, exist_ok=True)\n",
    "os.makedirs(dyed_resection_margins_dir, exist_ok=True)\n",
    "os.makedirs(esophagitis_dir, exist_ok=True)\n",
    "os.makedirs(normal_cecum_dir, exist_ok=True)\n",
    "os.makedirs(normal_pylorus_dir, exist_ok=True)\n",
    "os.makedirs(normal_z_line_dir, exist_ok=True)\n",
    "os.makedirs(polyps_dir, exist_ok=True)\n",
    "os.makedirs(ulcerative_colitis_dir, exist_ok=True)"
   ]
  },
  {
   "cell_type": "code",
   "execution_count": 152,
   "metadata": {},
   "outputs": [],
   "source": [
    "'''for i, (x, y) in enumerate(zip(x_test, y_test)):\n",
    "    if y == 0:\n",
    "        output_path = os.path.join(dyed_resection_margins_dir, f\"{i:06d}.jpg\")\n",
    "    elif y == 1:\n",
    "        output_path = os.path.join(dyed_lifted_polyps_dir, f\"{i:06d}.jpg\")\n",
    "    elif y == 2:\n",
    "        output_path = os.path.join(esophagitis_dir, f\"{i:06d}.jpg\")\n",
    "    elif y == 3:\n",
    "        output_path = os.path.join(normal_cecum_dir, f\"{i:06d}.jpg\")\n",
    "    elif y == 4:\n",
    "        output_path = os.path.join(normal_pylorus_dir, f\"{i:06d}.jpg\")\n",
    "    elif y == 5:\n",
    "        output_path = os.path.join(normal_z_line_dir, f\"{i:06d}.jpg\")\n",
    "    elif y == 6:\n",
    "        output_path = os.path.join(polyps_dir, f\"{i:06d}.jpg\")\n",
    "    else:\n",
    "        output_path = os.path.join(ulcerative_colitis_dir, f\"{i:06d}.jpg\")\n",
    "    imsave(output_path, x)'''"
   ]
  },
  {
   "cell_type": "code",
   "execution_count": 15,
   "metadata": {},
   "outputs": [],
   "source": [
    "train_datagen = ImageDataGenerator(width_shift_range = 0.2, height_shift_range = 0.2, horizontal_flip = True, vertical_flip = True, rescale=1/255, rotation_range = 90, validation_split = 0.1)\n",
    "#Look up documentation. Look at creating new data using rotations\n",
    "test_datagen = ImageDataGenerator(rescale=1/255)"
   ]
  },
  {
   "cell_type": "code",
   "execution_count": 16,
   "metadata": {},
   "outputs": [
    {
     "name": "stdout",
     "output_type": "stream",
     "text": [
      "Found 2883 images belonging to 8 classes.\n",
      "Found 317 images belonging to 8 classes.\n",
      "Found 800 images belonging to 8 classes.\n"
     ]
    }
   ],
   "source": [
    "train_gen = train_datagen.flow_from_directory(train_dir, batch_size = 2, seed = 42, subset = 'training', target_size = (256, 256))\n",
    "val_gen = train_datagen.flow_from_directory(train_dir, batch_size = 2, seed = 42, subset = 'validation', target_size = (256, 256))\n",
    "test_gen = test_datagen.flow_from_directory(test_dir, batch_size = 2, shuffle = False, target_size = (256, 256))"
   ]
  },
  {
   "cell_type": "code",
   "execution_count": 9,
   "metadata": {},
   "outputs": [
    {
     "data": {
      "text/plain": [
       "{'dyed-lifted-polyps': 0,\n",
       " 'dyed-resection-margins': 1,\n",
       " 'esophagitis': 2,\n",
       " 'normal-cecum': 3,\n",
       " 'normal-pylorus': 4,\n",
       " 'normal-z-line': 5,\n",
       " 'polyps': 6,\n",
       " 'ulcerative-colitis': 7}"
      ]
     },
     "execution_count": 9,
     "metadata": {},
     "output_type": "execute_result"
    }
   ],
   "source": [
    "train_gen.class_indices"
   ]
  },
  {
   "cell_type": "code",
   "execution_count": null,
   "metadata": {},
   "outputs": [],
   "source": [
    "target_size = (1500, 1500)\n",
    "#Look into rescaling the images\n",
    "def pad_image(img, target_size):\n",
    "    img_padded = np.zeros((*target_size, 3), dtype=img.dtype)\n",
    "    center = np.asarray(img.shape[:2]) // 2\n",
    "    center_padded = np.asarray(target_size) // 2\n",
    "    start_padded = np.maximum(center_padded - center, np.zeros(2, np.int))\n",
    "    stop_padded = np.minimum(start_padded + np.asarray(img.shape[:2]), np.asarray(target_size))\n",
    "    start = np.maximum(np.zeros(2, np.int), center - center_padded)\n",
    "    stop = np.minimum(np.asarray(img.shape[:2]), start + np.asarray(target_size))\n",
    "    img_padded[start_padded[0]:stop_padded[0], start_padded[1]:stop_padded[1]] = img[start[0]:stop[0], start[1]:stop[1]]\n",
    "    return img_padded"
   ]
  },
  {
   "cell_type": "code",
   "execution_count": null,
   "metadata": {},
   "outputs": [],
   "source": [
    "padded_imgs = np.empty((len(img_paths), *target_size, 3), dtype=np.uint8)\n",
    "'''for i, path in tqdm(enumerate(img_paths), total=len(img_paths)):\n",
    "    img = imread(path)\n",
    "    img_padded = pad_image(img, target_size)\n",
    "    padded_imgs[i] = img_padded'''"
   ]
  },
  {
   "cell_type": "code",
   "execution_count": null,
   "metadata": {},
   "outputs": [],
   "source": [
    "padded_imgs.shape"
   ]
  },
  {
   "cell_type": "code",
   "execution_count": 139,
   "metadata": {},
   "outputs": [
    {
     "data": {
      "text/plain": [
       "((2, 256, 256, 3), (2, 8))"
      ]
     },
     "execution_count": 139,
     "metadata": {},
     "output_type": "execute_result"
    }
   ],
   "source": [
    "x,y = next(train_gen)\n",
    "x.shape, y.shape"
   ]
  },
  {
   "cell_type": "code",
   "execution_count": 43,
   "metadata": {},
   "outputs": [],
   "source": [
    "pool_size = (4,4)\n",
    "kernal_size = (1,1)\n",
    "\n",
    "x_in = tf.keras.layers.Input(shape=(256, 256, 3))\n",
    "\n",
    "x = tf.keras.layers.Conv2D(filters=16, kernel_size=kernal_size, activation='relu')(x_in)\n",
    "x = tf.keras.layers.BatchNormalization()(x)\n",
    "x = tf.keras.layers.MaxPool2D(pool_size=pool_size)(x)\n",
    "\n",
    "x = tf.keras.layers.Conv2D(filters=32, kernel_size=kernal_size, activation='relu')(x)\n",
    "x = tf.keras.layers.BatchNormalization()(x)\n",
    "x = tf.keras.layers.MaxPool2D(pool_size=pool_size)(x)\n",
    "\n",
    "x = tf.keras.layers.Conv2D(filters=64, kernel_size=kernal_size, activation='relu')(x)\n",
    "x = tf.keras.layers.BatchNormalization()(x)\n",
    "x = tf.keras.layers.MaxPool2D(pool_size=pool_size)(x)\n",
    "\n",
    "x = tf.keras.layers.Conv2D(filters=128, kernel_size=kernal_size, activation='relu')(x)\n",
    "x = tf.keras.layers.BatchNormalization()(x)\n",
    "x = tf.keras.layers.MaxPool2D(pool_size=pool_size)(x)\n",
    "\n",
    "x_flatten = tf.keras.layers.Flatten()(x)\n",
    "x = tf.keras.layers.Dense(32, activation='relu')(x_flatten)\n",
    "\n",
    "x_out = tf.keras.layers.Dense(8, activation='softmax')(x)"
   ]
  },
  {
   "cell_type": "code",
   "execution_count": 44,
   "metadata": {
    "scrolled": true
   },
   "outputs": [
    {
     "name": "stdout",
     "output_type": "stream",
     "text": [
      "Model: \"model_11\"\n",
      "_________________________________________________________________\n",
      "Layer (type)                 Output Shape              Param #   \n",
      "=================================================================\n",
      "input_13 (InputLayer)        [(None, 256, 256, 3)]     0         \n",
      "_________________________________________________________________\n",
      "conv2d_53 (Conv2D)           (None, 256, 256, 16)      64        \n",
      "_________________________________________________________________\n",
      "batch_normalization_51 (Batc (None, 256, 256, 16)      64        \n",
      "_________________________________________________________________\n",
      "max_pooling2d_51 (MaxPooling (None, 64, 64, 16)        0         \n",
      "_________________________________________________________________\n",
      "conv2d_54 (Conv2D)           (None, 64, 64, 32)        544       \n",
      "_________________________________________________________________\n",
      "batch_normalization_52 (Batc (None, 64, 64, 32)        128       \n",
      "_________________________________________________________________\n",
      "max_pooling2d_52 (MaxPooling (None, 16, 16, 32)        0         \n",
      "_________________________________________________________________\n",
      "conv2d_55 (Conv2D)           (None, 16, 16, 64)        2112      \n",
      "_________________________________________________________________\n",
      "batch_normalization_53 (Batc (None, 16, 16, 64)        256       \n",
      "_________________________________________________________________\n",
      "max_pooling2d_53 (MaxPooling (None, 4, 4, 64)          0         \n",
      "_________________________________________________________________\n",
      "conv2d_56 (Conv2D)           (None, 4, 4, 128)         8320      \n",
      "_________________________________________________________________\n",
      "batch_normalization_54 (Batc (None, 4, 4, 128)         512       \n",
      "_________________________________________________________________\n",
      "max_pooling2d_54 (MaxPooling (None, 1, 1, 128)         0         \n",
      "_________________________________________________________________\n",
      "flatten_9 (Flatten)          (None, 128)               0         \n",
      "_________________________________________________________________\n",
      "dense_18 (Dense)             (None, 32)                4128      \n",
      "_________________________________________________________________\n",
      "dense_19 (Dense)             (None, 8)                 264       \n",
      "=================================================================\n",
      "Total params: 16,392\n",
      "Trainable params: 15,912\n",
      "Non-trainable params: 480\n",
      "_________________________________________________________________\n"
     ]
    }
   ],
   "source": [
    "model = tf.keras.Model(x_in, x_out)\n",
    "model.summary()"
   ]
  },
  {
   "cell_type": "code",
   "execution_count": 45,
   "metadata": {},
   "outputs": [],
   "source": [
    "model.compile(optimizer='adam', loss='categorical_crossentropy',metrics=['acc'])"
   ]
  },
  {
   "cell_type": "code",
   "execution_count": 9,
   "metadata": {},
   "outputs": [],
   "source": [
    "model.load_weights('/Users/roryliao/Desktop/kvasir-dataset/Weights.h5')"
   ]
  },
  {
   "cell_type": "code",
   "execution_count": 46,
   "metadata": {
    "scrolled": true
   },
   "outputs": [
    {
     "name": "stdout",
     "output_type": "stream",
     "text": [
      "Epoch 1/200\n",
      "1442/1442 [==============================] - 147s 102ms/step - loss: 1.5831 - acc: 0.3656 - val_loss: 1.0588 - val_acc: 0.4921\n",
      "Epoch 2/200\n",
      "1442/1442 [==============================] - 149s 104ms/step - loss: 1.2153 - acc: 0.4842 - val_loss: 1.0429 - val_acc: 0.4984\n",
      "Epoch 3/200\n",
      "1442/1442 [==============================] - 144s 100ms/step - loss: 1.1187 - acc: 0.5036 - val_loss: 0.9229 - val_acc: 0.5552\n",
      "Epoch 4/200\n",
      "1442/1442 [==============================] - 141s 98ms/step - loss: 1.0343 - acc: 0.5265 - val_loss: 0.8327 - val_acc: 0.5868\n",
      "Epoch 5/200\n",
      "1442/1442 [==============================] - 142s 99ms/step - loss: 1.0400 - acc: 0.5193 - val_loss: 0.9208 - val_acc: 0.5552\n",
      "Epoch 6/200\n",
      "1442/1442 [==============================] - 147s 102ms/step - loss: 1.0079 - acc: 0.5335 - val_loss: 0.8609 - val_acc: 0.6025\n",
      "Epoch 7/200\n",
      "1442/1442 [==============================] - 151s 104ms/step - loss: 0.9429 - acc: 0.5595 - val_loss: 0.8138 - val_acc: 0.6057\n",
      "Epoch 8/200\n",
      "1442/1442 [==============================] - 152s 106ms/step - loss: 0.9085 - acc: 0.5817 - val_loss: 0.7740 - val_acc: 0.6120\n",
      "Epoch 9/200\n",
      "1442/1442 [==============================] - 140s 97ms/step - loss: 0.8757 - acc: 0.5869 - val_loss: 0.7374 - val_acc: 0.6309\n",
      "Epoch 10/200\n",
      "1442/1442 [==============================] - 144s 100ms/step - loss: 0.8652 - acc: 0.6001 - val_loss: 0.7957 - val_acc: 0.6151\n",
      "Epoch 11/200\n",
      "1442/1442 [==============================] - 158s 110ms/step - loss: 0.8489 - acc: 0.6053 - val_loss: 0.7725 - val_acc: 0.6278\n",
      "Epoch 12/200\n",
      "1442/1442 [==============================] - 146s 101ms/step - loss: 0.8298 - acc: 0.6063 - val_loss: 0.6460 - val_acc: 0.6688\n",
      "Epoch 13/200\n",
      "1442/1442 [==============================] - 144s 100ms/step - loss: 0.8062 - acc: 0.6153 - val_loss: 0.7406 - val_acc: 0.6625\n",
      "Epoch 14/200\n",
      "1442/1442 [==============================] - 148s 103ms/step - loss: 0.7942 - acc: 0.6289 - val_loss: 0.6872 - val_acc: 0.7035\n",
      "Epoch 15/200\n",
      "1442/1442 [==============================] - 144s 100ms/step - loss: 0.7723 - acc: 0.6302 - val_loss: 0.7809 - val_acc: 0.6530\n",
      "Epoch 16/200\n",
      "1442/1442 [==============================] - 144s 100ms/step - loss: 0.7630 - acc: 0.6479 - val_loss: 0.6645 - val_acc: 0.6909\n",
      "Epoch 17/200\n",
      "1442/1442 [==============================] - 151s 104ms/step - loss: 0.7399 - acc: 0.6545 - val_loss: 0.6018 - val_acc: 0.6877\n",
      "Epoch 18/200\n",
      "1442/1442 [==============================] - 149s 103ms/step - loss: 0.7342 - acc: 0.6497 - val_loss: 0.8894 - val_acc: 0.6278\n",
      "Epoch 19/200\n",
      "1442/1442 [==============================] - 143s 99ms/step - loss: 0.7121 - acc: 0.6618 - val_loss: 0.6001 - val_acc: 0.6877\n",
      "Epoch 20/200\n",
      "1442/1442 [==============================] - 136s 94ms/step - loss: 0.7152 - acc: 0.6563 - val_loss: 0.5893 - val_acc: 0.6940\n",
      "Epoch 21/200\n",
      "1442/1442 [==============================] - 147s 102ms/step - loss: 0.6930 - acc: 0.6746 - val_loss: 0.6950 - val_acc: 0.6530\n",
      "Epoch 22/200\n",
      "1442/1442 [==============================] - 136s 94ms/step - loss: 0.7218 - acc: 0.6660 - val_loss: 0.6724 - val_acc: 0.6593\n",
      "Epoch 23/200\n",
      "1442/1442 [==============================] - 143s 99ms/step - loss: 0.7053 - acc: 0.6597 - val_loss: 0.6136 - val_acc: 0.7224\n",
      "Epoch 24/200\n",
      "1442/1442 [==============================] - 140s 97ms/step - loss: 0.6666 - acc: 0.6767 - val_loss: 0.6588 - val_acc: 0.6625\n",
      "Epoch 25/200\n",
      "1442/1442 [==============================] - 144s 100ms/step - loss: 0.6781 - acc: 0.6781 - val_loss: 0.5754 - val_acc: 0.7066\n",
      "Epoch 26/200\n",
      "1442/1442 [==============================] - 140s 97ms/step - loss: 0.6751 - acc: 0.6757 - val_loss: 0.6758 - val_acc: 0.6656\n",
      "Epoch 27/200\n",
      "1442/1442 [==============================] - 137s 95ms/step - loss: 0.6564 - acc: 0.6851 - val_loss: 0.6336 - val_acc: 0.7224\n",
      "Epoch 28/200\n",
      "1442/1442 [==============================] - 148s 103ms/step - loss: 0.6555 - acc: 0.6851 - val_loss: 0.6135 - val_acc: 0.7476\n",
      "Epoch 29/200\n",
      "1442/1442 [==============================] - 148s 103ms/step - loss: 0.6374 - acc: 0.6934 - val_loss: 0.6254 - val_acc: 0.6940\n",
      "Epoch 30/200\n",
      "1442/1442 [==============================] - 144s 100ms/step - loss: 0.6523 - acc: 0.6868 - val_loss: 0.5829 - val_acc: 0.7192\n",
      "Epoch 31/200\n",
      "1442/1442 [==============================] - 146s 101ms/step - loss: 0.6157 - acc: 0.7145 - val_loss: 0.5594 - val_acc: 0.7256\n",
      "Epoch 32/200\n",
      "1442/1442 [==============================] - 145s 100ms/step - loss: 0.6317 - acc: 0.7031 - val_loss: 0.5885 - val_acc: 0.7192\n",
      "Epoch 33/200\n",
      "1442/1442 [==============================] - 144s 100ms/step - loss: 0.6134 - acc: 0.7211 - val_loss: 0.5404 - val_acc: 0.7129\n",
      "Epoch 34/200\n",
      "1442/1442 [==============================] - 140s 97ms/step - loss: 0.6062 - acc: 0.7218 - val_loss: 0.5558 - val_acc: 0.7035\n",
      "Epoch 35/200\n",
      "1442/1442 [==============================] - 143s 99ms/step - loss: 0.6101 - acc: 0.7138 - val_loss: 0.5751 - val_acc: 0.7066\n",
      "Epoch 36/200\n",
      "1442/1442 [==============================] - 134s 93ms/step - loss: 0.6186 - acc: 0.7052 - val_loss: 0.5081 - val_acc: 0.7508\n",
      "Epoch 37/200\n",
      "1442/1442 [==============================] - 135s 94ms/step - loss: 0.5835 - acc: 0.7305 - val_loss: 0.5189 - val_acc: 0.7792\n",
      "Epoch 38/200\n",
      "1442/1442 [==============================] - 135s 93ms/step - loss: 0.6047 - acc: 0.7291 - val_loss: 0.5717 - val_acc: 0.7319\n",
      "Epoch 39/200\n",
      "1442/1442 [==============================] - 133s 92ms/step - loss: 0.5915 - acc: 0.7315 - val_loss: 0.5476 - val_acc: 0.7287\n",
      "Epoch 40/200\n",
      "1442/1442 [==============================] - 128s 89ms/step - loss: 0.5792 - acc: 0.7305 - val_loss: 0.5698 - val_acc: 0.7256\n",
      "Epoch 41/200\n",
      "1442/1442 [==============================] - 143s 99ms/step - loss: 0.5733 - acc: 0.7423 - val_loss: 0.5526 - val_acc: 0.7413\n",
      "Epoch 42/200\n",
      "1442/1442 [==============================] - 140s 97ms/step - loss: 0.5838 - acc: 0.7353 - val_loss: 0.5068 - val_acc: 0.7697\n",
      "Epoch 43/200\n",
      "1442/1442 [==============================] - 134s 93ms/step - loss: 0.5830 - acc: 0.7333 - val_loss: 0.5371 - val_acc: 0.7571\n",
      "Epoch 44/200\n",
      "1442/1442 [==============================] - 139s 97ms/step - loss: 0.5572 - acc: 0.7381 - val_loss: 0.5199 - val_acc: 0.7476\n",
      "Epoch 45/200\n",
      "1442/1442 [==============================] - 134s 93ms/step - loss: 0.5565 - acc: 0.7444 - val_loss: 0.5103 - val_acc: 0.7792\n",
      "Epoch 46/200\n",
      "1442/1442 [==============================] - 139s 96ms/step - loss: 0.5657 - acc: 0.7360 - val_loss: 0.4743 - val_acc: 0.7855\n",
      "Epoch 47/200\n",
      "1442/1442 [==============================] - 141s 98ms/step - loss: 0.5505 - acc: 0.7440 - val_loss: 0.5397 - val_acc: 0.7792\n",
      "Epoch 48/200\n",
      "1442/1442 [==============================] - 140s 97ms/step - loss: 0.5558 - acc: 0.7360 - val_loss: 0.5028 - val_acc: 0.7382\n",
      "Epoch 49/200\n",
      "1442/1442 [==============================] - 138s 96ms/step - loss: 0.5522 - acc: 0.7534 - val_loss: 0.5834 - val_acc: 0.7161\n",
      "Epoch 50/200\n",
      "1442/1442 [==============================] - 139s 96ms/step - loss: 0.5446 - acc: 0.7575 - val_loss: 0.6090 - val_acc: 0.7382\n",
      "Epoch 51/200\n",
      "1442/1442 [==============================] - 136s 94ms/step - loss: 0.5339 - acc: 0.7558 - val_loss: 0.6168 - val_acc: 0.7066\n",
      "Epoch 52/200\n",
      "1442/1442 [==============================] - 142s 98ms/step - loss: 0.5451 - acc: 0.7454 - val_loss: 0.4896 - val_acc: 0.8107\n",
      "Epoch 53/200\n",
      "1442/1442 [==============================] - 137s 95ms/step - loss: 0.5346 - acc: 0.7610 - val_loss: 0.5051 - val_acc: 0.7886\n",
      "Epoch 54/200\n",
      "1442/1442 [==============================] - 139s 96ms/step - loss: 0.5290 - acc: 0.7603 - val_loss: 0.4839 - val_acc: 0.7666\n",
      "Epoch 55/200\n",
      "1442/1442 [==============================] - 143s 99ms/step - loss: 0.5178 - acc: 0.7600 - val_loss: 0.5397 - val_acc: 0.7666\n",
      "Epoch 56/200\n",
      "1442/1442 [==============================] - 146s 102ms/step - loss: 0.5271 - acc: 0.7575 - val_loss: 0.5364 - val_acc: 0.7350\n",
      "Epoch 57/200\n",
      "1442/1442 [==============================] - 205s 142ms/step - loss: 0.5176 - acc: 0.7704 - val_loss: 0.5714 - val_acc: 0.7539\n",
      "Epoch 58/200\n",
      "1442/1442 [==============================] - 206s 143ms/step - loss: 0.5306 - acc: 0.7582 - val_loss: 0.5310 - val_acc: 0.7603\n",
      "Epoch 59/200\n",
      "1442/1442 [==============================] - 165s 114ms/step - loss: 0.5251 - acc: 0.7624 - val_loss: 0.4903 - val_acc: 0.7886\n",
      "Epoch 60/200\n",
      "1442/1442 [==============================] - 160s 111ms/step - loss: 0.5100 - acc: 0.7790 - val_loss: 0.5153 - val_acc: 0.7539\n",
      "Epoch 61/200\n",
      "1442/1442 [==============================] - 162s 112ms/step - loss: 0.5078 - acc: 0.7759 - val_loss: 0.5045 - val_acc: 0.7918\n",
      "Epoch 62/200\n",
      "1442/1442 [==============================] - 147s 102ms/step - loss: 0.4979 - acc: 0.7794 - val_loss: 0.5632 - val_acc: 0.7855\n",
      "Epoch 63/200\n",
      "1442/1442 [==============================] - 143s 99ms/step - loss: 0.5144 - acc: 0.7686 - val_loss: 0.4898 - val_acc: 0.7697\n",
      "Epoch 64/200\n",
      "1442/1442 [==============================] - 143s 99ms/step - loss: 0.5053 - acc: 0.7752 - val_loss: 0.4769 - val_acc: 0.7666\n",
      "Epoch 65/200\n",
      "1442/1442 [==============================] - 151s 105ms/step - loss: 0.4940 - acc: 0.7763 - val_loss: 0.6407 - val_acc: 0.7382\n",
      "Epoch 66/200\n",
      "1442/1442 [==============================] - 165s 114ms/step - loss: 0.4901 - acc: 0.7759 - val_loss: 0.5351 - val_acc: 0.7603\n",
      "Epoch 67/200\n",
      "1442/1442 [==============================] - 160s 111ms/step - loss: 0.5192 - acc: 0.7752 - val_loss: 0.4698 - val_acc: 0.7886\n",
      "Epoch 68/200\n",
      "1442/1442 [==============================] - 150s 104ms/step - loss: 0.4992 - acc: 0.7804 - val_loss: 0.4708 - val_acc: 0.8265\n",
      "Epoch 69/200\n",
      "1442/1442 [==============================] - 126s 87ms/step - loss: 0.4759 - acc: 0.7922 - val_loss: 0.4681 - val_acc: 0.7886\n",
      "Epoch 70/200\n",
      "1442/1442 [==============================] - 125s 86ms/step - loss: 0.4884 - acc: 0.7905 - val_loss: 0.4585 - val_acc: 0.8202\n",
      "Epoch 71/200\n",
      "1442/1442 [==============================] - 126s 87ms/step - loss: 0.4819 - acc: 0.7940 - val_loss: 0.4671 - val_acc: 0.7981\n",
      "Epoch 72/200\n",
      "1442/1442 [==============================] - 124s 86ms/step - loss: 0.4763 - acc: 0.7985 - val_loss: 0.4846 - val_acc: 0.7823\n",
      "Epoch 73/200\n",
      "1442/1442 [==============================] - 123s 86ms/step - loss: 0.4808 - acc: 0.7770 - val_loss: 0.4513 - val_acc: 0.8107\n",
      "Epoch 74/200\n",
      "1442/1442 [==============================] - 124s 86ms/step - loss: 0.4710 - acc: 0.7929 - val_loss: 0.5369 - val_acc: 0.7634\n",
      "Epoch 75/200\n",
      "1442/1442 [==============================] - 123s 86ms/step - loss: 0.4829 - acc: 0.7929 - val_loss: 0.4171 - val_acc: 0.8233\n",
      "Epoch 76/200\n",
      "1442/1442 [==============================] - 124s 86ms/step - loss: 0.4622 - acc: 0.7999 - val_loss: 0.5916 - val_acc: 0.7445\n",
      "Epoch 77/200\n",
      "1442/1442 [==============================] - 124s 86ms/step - loss: 0.4727 - acc: 0.7898 - val_loss: 0.5943 - val_acc: 0.7445\n",
      "Epoch 78/200\n",
      "1442/1442 [==============================] - 125s 87ms/step - loss: 0.4785 - acc: 0.7964 - val_loss: 0.4731 - val_acc: 0.7823\n",
      "Epoch 79/200\n",
      "1442/1442 [==============================] - 125s 86ms/step - loss: 0.4768 - acc: 0.7926 - val_loss: 0.4964 - val_acc: 0.7634\n",
      "Epoch 80/200\n",
      "1442/1442 [==============================] - 124s 86ms/step - loss: 0.4816 - acc: 0.7922 - val_loss: 0.5920 - val_acc: 0.7792\n",
      "Epoch 81/200\n",
      "1442/1442 [==============================] - 125s 86ms/step - loss: 0.4720 - acc: 0.7999 - val_loss: 0.5270 - val_acc: 0.7413\n",
      "Epoch 82/200\n",
      "1442/1442 [==============================] - 125s 86ms/step - loss: 0.4734 - acc: 0.7954 - val_loss: 0.6161 - val_acc: 0.7603\n",
      "Epoch 83/200\n",
      "1442/1442 [==============================] - 124s 86ms/step - loss: 0.4467 - acc: 0.8082 - val_loss: 0.6330 - val_acc: 0.7571\n",
      "Epoch 84/200\n",
      "1442/1442 [==============================] - 124s 86ms/step - loss: 0.4580 - acc: 0.8054 - val_loss: 0.5014 - val_acc: 0.7729\n",
      "Epoch 85/200\n",
      "1442/1442 [==============================] - 124s 86ms/step - loss: 0.4547 - acc: 0.8075 - val_loss: 0.6433 - val_acc: 0.7476\n",
      "Epoch 86/200\n",
      "1442/1442 [==============================] - 125s 86ms/step - loss: 0.4502 - acc: 0.8054 - val_loss: 0.4340 - val_acc: 0.8013\n",
      "Epoch 87/200\n",
      "1442/1442 [==============================] - 124s 86ms/step - loss: 0.4672 - acc: 0.7992 - val_loss: 0.5408 - val_acc: 0.7539\n",
      "Epoch 88/200\n",
      "1442/1442 [==============================] - 124s 86ms/step - loss: 0.4586 - acc: 0.8002 - val_loss: 0.4692 - val_acc: 0.8170\n",
      "Epoch 89/200\n",
      "1442/1442 [==============================] - 124s 86ms/step - loss: 0.4456 - acc: 0.8061 - val_loss: 0.4809 - val_acc: 0.7886\n",
      "Epoch 90/200\n",
      "1442/1442 [==============================] - 125s 86ms/step - loss: 0.4542 - acc: 0.8023 - val_loss: 0.5077 - val_acc: 0.7697\n",
      "Epoch 91/200\n",
      "1442/1442 [==============================] - 124s 86ms/step - loss: 0.4514 - acc: 0.8058 - val_loss: 0.4876 - val_acc: 0.7855\n",
      "Epoch 92/200\n",
      "1442/1442 [==============================] - 124s 86ms/step - loss: 0.4578 - acc: 0.8037 - val_loss: 0.5456 - val_acc: 0.7445\n",
      "Epoch 93/200\n",
      "1442/1442 [==============================] - 124s 86ms/step - loss: 0.4457 - acc: 0.8103 - val_loss: 0.6453 - val_acc: 0.7413\n",
      "Epoch 94/200\n",
      "1442/1442 [==============================] - 125s 87ms/step - loss: 0.4519 - acc: 0.8068 - val_loss: 0.4674 - val_acc: 0.8107\n",
      "Epoch 95/200\n",
      "1442/1442 [==============================] - 124s 86ms/step - loss: 0.4453 - acc: 0.8148 - val_loss: 0.6017 - val_acc: 0.7603\n",
      "Epoch 96/200\n",
      "1442/1442 [==============================] - 126s 87ms/step - loss: 0.4510 - acc: 0.8016 - val_loss: 0.4479 - val_acc: 0.8202\n",
      "Epoch 97/200\n",
      "1442/1442 [==============================] - 125s 86ms/step - loss: 0.4378 - acc: 0.8123 - val_loss: 0.4715 - val_acc: 0.7918\n",
      "Epoch 98/200\n",
      "1442/1442 [==============================] - 125s 87ms/step - loss: 0.4375 - acc: 0.8065 - val_loss: 0.4718 - val_acc: 0.8044\n",
      "Epoch 99/200\n",
      "1442/1442 [==============================] - 124s 86ms/step - loss: 0.4537 - acc: 0.8051 - val_loss: 0.5094 - val_acc: 0.7729\n",
      "Epoch 100/200\n",
      "1442/1442 [==============================] - 125s 87ms/step - loss: 0.4443 - acc: 0.8075 - val_loss: 0.4950 - val_acc: 0.8013\n",
      "Epoch 101/200\n",
      "1442/1442 [==============================] - 124s 86ms/step - loss: 0.4193 - acc: 0.8217 - val_loss: 0.5283 - val_acc: 0.7634\n",
      "Epoch 102/200\n",
      "1442/1442 [==============================] - 125s 87ms/step - loss: 0.4310 - acc: 0.8169 - val_loss: 0.4898 - val_acc: 0.7918\n",
      "Epoch 103/200\n",
      "1442/1442 [==============================] - 125s 86ms/step - loss: 0.4311 - acc: 0.8214 - val_loss: 0.5380 - val_acc: 0.7823\n",
      "Epoch 104/200\n",
      "1442/1442 [==============================] - 124s 86ms/step - loss: 0.4389 - acc: 0.8162 - val_loss: 0.5000 - val_acc: 0.8013\n",
      "Epoch 105/200\n",
      "1442/1442 [==============================] - 124s 86ms/step - loss: 0.4433 - acc: 0.8141 - val_loss: 0.5229 - val_acc: 0.7729\n",
      "Epoch 106/200\n",
      "1442/1442 [==============================] - 125s 87ms/step - loss: 0.4464 - acc: 0.8044 - val_loss: 0.4486 - val_acc: 0.8139\n",
      "Epoch 107/200\n",
      "1442/1442 [==============================] - 125s 86ms/step - loss: 0.4331 - acc: 0.8200 - val_loss: 0.5042 - val_acc: 0.8139\n",
      "Epoch 108/200\n",
      "1442/1442 [==============================] - 125s 86ms/step - loss: 0.4256 - acc: 0.8210 - val_loss: 0.4353 - val_acc: 0.8170\n",
      "Epoch 109/200\n",
      "1442/1442 [==============================] - 125s 87ms/step - loss: 0.4349 - acc: 0.8196 - val_loss: 0.4894 - val_acc: 0.8076\n",
      "Epoch 110/200\n",
      "1442/1442 [==============================] - 124s 86ms/step - loss: 0.4161 - acc: 0.8193 - val_loss: 0.4924 - val_acc: 0.7855\n",
      "Epoch 111/200\n",
      "1442/1442 [==============================] - 125s 86ms/step - loss: 0.4156 - acc: 0.8269 - val_loss: 0.5543 - val_acc: 0.7981\n",
      "Epoch 112/200\n",
      "1442/1442 [==============================] - 125s 87ms/step - loss: 0.4264 - acc: 0.8176 - val_loss: 0.4940 - val_acc: 0.7760\n",
      "Epoch 113/200\n",
      "1442/1442 [==============================] - 125s 87ms/step - loss: 0.4029 - acc: 0.8311 - val_loss: 0.6168 - val_acc: 0.7256\n",
      "Epoch 114/200\n",
      "1442/1442 [==============================] - 124s 86ms/step - loss: 0.4375 - acc: 0.8162 - val_loss: 0.5735 - val_acc: 0.7855\n",
      "Epoch 115/200\n",
      "1442/1442 [==============================] - 125s 87ms/step - loss: 0.4212 - acc: 0.8196 - val_loss: 0.8687 - val_acc: 0.6656\n",
      "Epoch 116/200\n",
      "1442/1442 [==============================] - 124s 86ms/step - loss: 0.4315 - acc: 0.8290 - val_loss: 0.4755 - val_acc: 0.7950\n",
      "Epoch 117/200\n",
      "1442/1442 [==============================] - 125s 87ms/step - loss: 0.4141 - acc: 0.8241 - val_loss: 0.5816 - val_acc: 0.7697\n"
     ]
    },
    {
     "name": "stdout",
     "output_type": "stream",
     "text": [
      "Epoch 118/200\n",
      "1442/1442 [==============================] - 123s 85ms/step - loss: 0.4102 - acc: 0.8259 - val_loss: 0.4794 - val_acc: 0.7886\n",
      "Epoch 119/200\n",
      "1442/1442 [==============================] - 123s 86ms/step - loss: 0.4083 - acc: 0.8300 - val_loss: 0.5075 - val_acc: 0.8013\n",
      "Epoch 120/200\n",
      "1442/1442 [==============================] - 123s 85ms/step - loss: 0.4183 - acc: 0.8293 - val_loss: 0.5301 - val_acc: 0.7981\n",
      "Epoch 121/200\n",
      "1442/1442 [==============================] - 123s 85ms/step - loss: 0.4097 - acc: 0.8221 - val_loss: 0.4778 - val_acc: 0.8013\n",
      "Epoch 122/200\n",
      "1442/1442 [==============================] - 123s 85ms/step - loss: 0.4336 - acc: 0.8255 - val_loss: 0.5083 - val_acc: 0.7697\n",
      "Epoch 123/200\n",
      "1442/1442 [==============================] - 123s 86ms/step - loss: 0.3986 - acc: 0.8342 - val_loss: 0.4180 - val_acc: 0.8423\n",
      "Epoch 124/200\n",
      "1442/1442 [==============================] - 123s 85ms/step - loss: 0.4220 - acc: 0.8217 - val_loss: 0.4920 - val_acc: 0.8107\n",
      "Epoch 125/200\n",
      "1442/1442 [==============================] - 124s 86ms/step - loss: 0.4147 - acc: 0.8321 - val_loss: 0.4462 - val_acc: 0.7950\n",
      "Epoch 126/200\n",
      "1442/1442 [==============================] - 123s 85ms/step - loss: 0.4082 - acc: 0.8283 - val_loss: 0.4852 - val_acc: 0.7981\n",
      "Epoch 127/200\n",
      "1442/1442 [==============================] - 123s 86ms/step - loss: 0.4087 - acc: 0.8280 - val_loss: 0.6780 - val_acc: 0.7792\n",
      "Epoch 128/200\n",
      "1442/1442 [==============================] - 123s 85ms/step - loss: 0.4140 - acc: 0.8169 - val_loss: 0.4987 - val_acc: 0.7823\n",
      "Epoch 129/200\n",
      "1442/1442 [==============================] - 124s 86ms/step - loss: 0.4063 - acc: 0.8318 - val_loss: 0.5604 - val_acc: 0.7729\n",
      "Epoch 130/200\n",
      "1442/1442 [==============================] - 123s 86ms/step - loss: 0.4111 - acc: 0.8283 - val_loss: 0.4702 - val_acc: 0.8013\n",
      "Epoch 131/200\n",
      "1442/1442 [==============================] - 124s 86ms/step - loss: 0.4078 - acc: 0.8321 - val_loss: 0.5563 - val_acc: 0.8013\n",
      "Epoch 132/200\n",
      "1442/1442 [==============================] - 123s 85ms/step - loss: 0.3912 - acc: 0.8307 - val_loss: 0.4809 - val_acc: 0.7918\n",
      "Epoch 133/200\n",
      "1442/1442 [==============================] - 124s 86ms/step - loss: 0.3927 - acc: 0.8404 - val_loss: 0.4561 - val_acc: 0.8170\n",
      "Epoch 134/200\n",
      "1442/1442 [==============================] - 122s 85ms/step - loss: 0.4155 - acc: 0.8290 - val_loss: 0.4428 - val_acc: 0.8265\n",
      "Epoch 135/200\n",
      "1442/1442 [==============================] - 124s 86ms/step - loss: 0.4182 - acc: 0.8266 - val_loss: 0.6687 - val_acc: 0.7603\n",
      "Epoch 136/200\n",
      "1442/1442 [==============================] - 123s 85ms/step - loss: 0.3915 - acc: 0.8359 - val_loss: 0.6801 - val_acc: 0.7697\n",
      "Epoch 137/200\n",
      "1442/1442 [==============================] - 123s 86ms/step - loss: 0.4004 - acc: 0.8328 - val_loss: 0.6066 - val_acc: 0.7918\n",
      "Epoch 138/200\n",
      "1442/1442 [==============================] - 122s 85ms/step - loss: 0.3931 - acc: 0.8293 - val_loss: 0.7683 - val_acc: 0.7571\n",
      "Epoch 139/200\n",
      "1442/1442 [==============================] - 123s 85ms/step - loss: 0.3818 - acc: 0.8391 - val_loss: 0.6128 - val_acc: 0.7571\n",
      "Epoch 140/200\n",
      "1442/1442 [==============================] - 124s 86ms/step - loss: 0.3931 - acc: 0.8352 - val_loss: 0.6887 - val_acc: 0.7476\n",
      "Epoch 141/200\n",
      "1442/1442 [==============================] - 123s 85ms/step - loss: 0.4063 - acc: 0.8290 - val_loss: 0.4925 - val_acc: 0.7886\n",
      "Epoch 142/200\n",
      "1442/1442 [==============================] - 123s 86ms/step - loss: 0.3823 - acc: 0.8453 - val_loss: 0.4903 - val_acc: 0.7950\n",
      "Epoch 143/200\n",
      "1442/1442 [==============================] - 123s 86ms/step - loss: 0.3890 - acc: 0.8335 - val_loss: 0.5802 - val_acc: 0.7950\n",
      "Epoch 144/200\n",
      "1442/1442 [==============================] - 123s 85ms/step - loss: 0.3939 - acc: 0.8373 - val_loss: 0.6040 - val_acc: 0.7760\n",
      "Epoch 145/200\n",
      "1442/1442 [==============================] - 123s 85ms/step - loss: 0.3801 - acc: 0.8411 - val_loss: 0.6600 - val_acc: 0.7476\n",
      "Epoch 146/200\n",
      "1442/1442 [==============================] - 123s 86ms/step - loss: 0.3970 - acc: 0.8408 - val_loss: 0.5950 - val_acc: 0.7476\n",
      "Epoch 147/200\n",
      "1442/1442 [==============================] - 123s 85ms/step - loss: 0.3809 - acc: 0.8453 - val_loss: 0.5835 - val_acc: 0.8076\n",
      "Epoch 148/200\n",
      "1442/1442 [==============================] - 124s 86ms/step - loss: 0.3881 - acc: 0.8436 - val_loss: 0.5679 - val_acc: 0.7886\n",
      "Epoch 149/200\n",
      "1442/1442 [==============================] - 123s 85ms/step - loss: 0.3858 - acc: 0.8408 - val_loss: 0.4710 - val_acc: 0.8202\n",
      "Epoch 150/200\n",
      "1442/1442 [==============================] - 123s 85ms/step - loss: 0.3912 - acc: 0.8377 - val_loss: 0.5372 - val_acc: 0.7981\n",
      "Epoch 151/200\n",
      "1442/1442 [==============================] - 123s 85ms/step - loss: 0.4115 - acc: 0.8266 - val_loss: 0.5063 - val_acc: 0.7981\n",
      "Epoch 152/200\n",
      "1442/1442 [==============================] - 123s 85ms/step - loss: 0.4046 - acc: 0.8332 - val_loss: 0.4661 - val_acc: 0.8202\n",
      "Epoch 153/200\n",
      "1442/1442 [==============================] - 123s 85ms/step - loss: 0.3992 - acc: 0.8290 - val_loss: 0.5981 - val_acc: 0.7792\n",
      "Epoch 154/200\n",
      "1442/1442 [==============================] - 123s 86ms/step - loss: 0.3758 - acc: 0.8463 - val_loss: 1.5421 - val_acc: 0.6719\n",
      "Epoch 155/200\n",
      "1442/1442 [==============================] - 124s 86ms/step - loss: 0.3910 - acc: 0.8446 - val_loss: 0.5821 - val_acc: 0.7855\n",
      "Epoch 156/200\n",
      "1442/1442 [==============================] - 124s 86ms/step - loss: 0.3987 - acc: 0.8356 - val_loss: 0.5756 - val_acc: 0.7823\n",
      "Epoch 157/200\n",
      "1442/1442 [==============================] - 123s 85ms/step - loss: 0.3766 - acc: 0.8519 - val_loss: 0.5965 - val_acc: 0.7792\n",
      "Epoch 158/200\n",
      "1442/1442 [==============================] - 124s 86ms/step - loss: 0.4022 - acc: 0.8321 - val_loss: 0.5507 - val_acc: 0.8013\n",
      "Epoch 159/200\n",
      "1442/1442 [==============================] - 123s 85ms/step - loss: 0.3754 - acc: 0.8446 - val_loss: 0.5403 - val_acc: 0.8013\n",
      "Epoch 160/200\n",
      "1442/1442 [==============================] - 123s 86ms/step - loss: 0.3581 - acc: 0.8550 - val_loss: 0.4831 - val_acc: 0.8013\n",
      "Epoch 161/200\n",
      "1442/1442 [==============================] - 123s 85ms/step - loss: 0.3757 - acc: 0.8394 - val_loss: 0.5422 - val_acc: 0.7760\n",
      "Epoch 162/200\n",
      "1442/1442 [==============================] - 124s 86ms/step - loss: 0.3916 - acc: 0.8366 - val_loss: 0.5597 - val_acc: 0.7886\n",
      "Epoch 163/200\n",
      "1442/1442 [==============================] - 123s 85ms/step - loss: 0.3787 - acc: 0.8470 - val_loss: 0.5313 - val_acc: 0.7981\n",
      "Epoch 164/200\n",
      "1442/1442 [==============================] - 124s 86ms/step - loss: 0.3773 - acc: 0.8467 - val_loss: 0.6559 - val_acc: 0.7823\n",
      "Epoch 165/200\n",
      "1442/1442 [==============================] - 123s 85ms/step - loss: 0.4037 - acc: 0.8262 - val_loss: 0.4908 - val_acc: 0.8328\n",
      "Epoch 166/200\n",
      "1442/1442 [==============================] - 123s 86ms/step - loss: 0.3872 - acc: 0.8352 - val_loss: 0.6655 - val_acc: 0.7918\n",
      "Epoch 167/200\n",
      "1442/1442 [==============================] - 122s 85ms/step - loss: 0.3588 - acc: 0.8578 - val_loss: 0.5710 - val_acc: 0.7950\n",
      "Epoch 168/200\n",
      "1442/1442 [==============================] - 124s 86ms/step - loss: 0.3834 - acc: 0.8425 - val_loss: 0.6573 - val_acc: 0.7981\n",
      "Epoch 169/200\n",
      "1442/1442 [==============================] - 123s 85ms/step - loss: 0.3734 - acc: 0.8446 - val_loss: 0.5287 - val_acc: 0.7981\n",
      "Epoch 170/200\n",
      "1442/1442 [==============================] - 124s 86ms/step - loss: 0.3625 - acc: 0.8526 - val_loss: 0.5414 - val_acc: 0.8170\n",
      "Epoch 171/200\n",
      "1442/1442 [==============================] - 123s 85ms/step - loss: 0.3588 - acc: 0.8477 - val_loss: 0.7459 - val_acc: 0.7666\n",
      "Epoch 172/200\n",
      "1442/1442 [==============================] - 124s 86ms/step - loss: 0.3753 - acc: 0.8408 - val_loss: 0.6369 - val_acc: 0.8170\n",
      "Epoch 173/200\n",
      "1442/1442 [==============================] - 123s 85ms/step - loss: 0.3680 - acc: 0.8498 - val_loss: 0.5875 - val_acc: 0.8107\n",
      "Epoch 174/200\n",
      "1442/1442 [==============================] - 124s 86ms/step - loss: 0.3785 - acc: 0.8404 - val_loss: 0.6841 - val_acc: 0.7760\n",
      "Epoch 175/200\n",
      "1442/1442 [==============================] - 123s 86ms/step - loss: 0.3718 - acc: 0.8387 - val_loss: 0.6639 - val_acc: 0.7981\n",
      "Epoch 176/200\n",
      "1442/1442 [==============================] - 123s 85ms/step - loss: 0.3715 - acc: 0.8429 - val_loss: 0.5749 - val_acc: 0.7792\n",
      "Epoch 177/200\n",
      "1442/1442 [==============================] - 123s 85ms/step - loss: 0.3638 - acc: 0.8495 - val_loss: 0.6180 - val_acc: 0.7729\n",
      "Epoch 178/200\n",
      "1442/1442 [==============================] - 123s 85ms/step - loss: 0.3715 - acc: 0.8502 - val_loss: 0.6704 - val_acc: 0.7634\n",
      "Epoch 179/200\n",
      "1442/1442 [==============================] - 123s 85ms/step - loss: 0.3727 - acc: 0.8439 - val_loss: 0.4786 - val_acc: 0.8202\n",
      "Epoch 180/200\n",
      "1442/1442 [==============================] - 122s 85ms/step - loss: 0.3851 - acc: 0.8401 - val_loss: 0.4325 - val_acc: 0.8454\n",
      "Epoch 181/200\n",
      "1442/1442 [==============================] - 123s 85ms/step - loss: 0.3594 - acc: 0.8512 - val_loss: 0.6413 - val_acc: 0.7792\n",
      "Epoch 182/200\n",
      "1442/1442 [==============================] - 123s 85ms/step - loss: 0.3680 - acc: 0.8411 - val_loss: 0.5273 - val_acc: 0.7886\n",
      "Epoch 183/200\n",
      "1442/1442 [==============================] - 123s 86ms/step - loss: 0.3754 - acc: 0.8467 - val_loss: 0.6026 - val_acc: 0.7981\n",
      "Epoch 184/200\n",
      "1442/1442 [==============================] - 124s 86ms/step - loss: 0.3731 - acc: 0.8425 - val_loss: 0.5968 - val_acc: 0.7950\n",
      "Epoch 185/200\n",
      "1442/1442 [==============================] - 123s 85ms/step - loss: 0.3584 - acc: 0.8540 - val_loss: 0.6074 - val_acc: 0.7855\n",
      "Epoch 186/200\n",
      "1442/1442 [==============================] - 122s 85ms/step - loss: 0.3704 - acc: 0.8446 - val_loss: 0.6200 - val_acc: 0.7950\n",
      "Epoch 187/200\n",
      "1442/1442 [==============================] - 123s 85ms/step - loss: 0.3589 - acc: 0.8547 - val_loss: 0.5659 - val_acc: 0.8013\n",
      "Epoch 188/200\n",
      "1442/1442 [==============================] - 123s 85ms/step - loss: 0.3436 - acc: 0.8519 - val_loss: 0.5624 - val_acc: 0.8107\n",
      "Epoch 189/200\n",
      "1442/1442 [==============================] - 123s 86ms/step - loss: 0.3425 - acc: 0.8557 - val_loss: 0.6339 - val_acc: 0.8013\n",
      "Epoch 190/200\n",
      "1442/1442 [==============================] - 123s 85ms/step - loss: 0.3765 - acc: 0.8446 - val_loss: 0.5733 - val_acc: 0.7886\n",
      "Epoch 191/200\n",
      "1442/1442 [==============================] - 123s 86ms/step - loss: 0.3736 - acc: 0.8418 - val_loss: 0.7645 - val_acc: 0.7382\n",
      "Epoch 192/200\n",
      "1442/1442 [==============================] - 123s 85ms/step - loss: 0.3574 - acc: 0.8547 - val_loss: 0.4545 - val_acc: 0.7918\n",
      "Epoch 193/200\n",
      "1442/1442 [==============================] - 123s 86ms/step - loss: 0.3566 - acc: 0.8533 - val_loss: 0.6673 - val_acc: 0.7697\n",
      "Epoch 194/200\n",
      "1442/1442 [==============================] - 123s 85ms/step - loss: 0.3614 - acc: 0.8460 - val_loss: 0.4481 - val_acc: 0.8139\n",
      "Epoch 195/200\n",
      "1442/1442 [==============================] - 123s 86ms/step - loss: 0.3477 - acc: 0.8495 - val_loss: 0.5001 - val_acc: 0.8202\n",
      "Epoch 196/200\n",
      "1442/1442 [==============================] - 123s 85ms/step - loss: 0.3714 - acc: 0.8491 - val_loss: 0.6515 - val_acc: 0.7666\n",
      "Epoch 197/200\n",
      "1442/1442 [==============================] - 123s 86ms/step - loss: 0.3577 - acc: 0.8453 - val_loss: 0.5324 - val_acc: 0.8297\n",
      "Epoch 198/200\n",
      "1442/1442 [==============================] - 123s 85ms/step - loss: 0.3639 - acc: 0.8502 - val_loss: 0.5986 - val_acc: 0.7666\n",
      "Epoch 199/200\n",
      "1442/1442 [==============================] - 123s 86ms/step - loss: 0.3554 - acc: 0.8474 - val_loss: 0.3961 - val_acc: 0.8454\n",
      "Epoch 200/200\n",
      "1442/1442 [==============================] - 123s 85ms/step - loss: 0.3445 - acc: 0.8540 - val_loss: 0.5553 - val_acc: 0.8107\n"
     ]
    }
   ],
   "source": [
    "history = model.fit_generator(train_gen, steps_per_epoch=len(train_gen), epochs=200, validation_data=val_gen, validation_steps=len(val_gen))"
   ]
  },
  {
   "cell_type": "code",
   "execution_count": 22,
   "metadata": {},
   "outputs": [],
   "source": [
    "model.save_weights('/Users/roryliao/Desktop/kvasir-dataset/Weights4Layers.h5')"
   ]
  },
  {
   "cell_type": "code",
   "execution_count": 48,
   "metadata": {},
   "outputs": [
    {
     "name": "stdout",
     "output_type": "stream",
     "text": [
      "400/400 [==============================] - 10s 26ms/step\n"
     ]
    }
   ],
   "source": [
    "scores = model.predict(test_gen, verbose = 1)"
   ]
  },
  {
   "cell_type": "code",
   "execution_count": 55,
   "metadata": {},
   "outputs": [
    {
     "name": "stdout",
     "output_type": "stream",
     "text": [
      "400/400 [==============================] - 11s 27ms/step - loss: 0.7752 - acc: 0.7800\n"
     ]
    },
    {
     "data": {
      "text/plain": [
       "[0.7752273702963521, 0.78]"
      ]
     },
     "execution_count": 55,
     "metadata": {},
     "output_type": "execute_result"
    }
   ],
   "source": [
    "model.evaluate(test_gen, verbose = 1)"
   ]
  },
  {
   "cell_type": "code",
   "execution_count": 49,
   "metadata": {},
   "outputs": [],
   "source": [
    "preds = np.argmax(scores, axis = 1)"
   ]
  },
  {
   "cell_type": "code",
   "execution_count": 180,
   "metadata": {
    "scrolled": true
   },
   "outputs": [
    {
     "data": {
      "text/plain": [
       "array([0, 0, 0, 0, 0, 0, 0, 0, 0, 3, 0, 0, 1, 0, 0, 1, 0, 0, 3, 0, 0, 0,\n",
       "       0, 0, 0, 0, 1, 0, 0, 0, 3, 0, 0, 1, 7, 6, 0, 1, 1, 0, 1, 0, 0, 0,\n",
       "       0, 0, 0, 0, 0, 0, 0, 0, 0, 0, 0, 0, 0, 1, 0, 6, 0, 0, 1, 0, 0, 0,\n",
       "       1, 0, 0, 0, 1, 0, 0, 1, 1, 1, 0, 0, 1, 0, 1, 1, 1, 1, 0, 1, 0, 1,\n",
       "       7, 0, 0, 3, 0, 0, 0, 0, 0, 0, 1, 1, 1, 7, 1, 0, 1, 1, 1, 1, 1, 1,\n",
       "       0, 0, 1, 1, 0, 0, 1, 1, 1, 1, 0, 1, 1, 1, 2, 0, 0, 1, 1, 1, 1, 1,\n",
       "       0, 0, 1, 0, 1, 0, 1, 1, 0, 1, 0, 1, 1, 1, 0, 1, 1, 1, 1, 0, 1, 0,\n",
       "       1, 1, 1, 1, 1, 0, 1, 1, 0, 1, 1, 1, 1, 1, 1, 0, 1, 1, 1, 1, 0, 0,\n",
       "       1, 1, 0, 1, 1, 1, 0, 0, 1, 0, 1, 0, 1, 1, 1, 0, 5, 2, 2, 2, 2, 2,\n",
       "       2, 2, 2, 5, 2, 2, 2, 2, 2, 2, 2, 2, 2, 2, 2, 2, 2, 2, 2, 2, 2, 2,\n",
       "       2, 2, 2, 2, 2, 2, 2, 2, 2, 2, 2, 2, 2, 2, 2, 5, 2, 2, 2, 2, 2, 2,\n",
       "       2, 2, 2, 2, 2, 2, 2, 2, 2, 2, 2, 2, 2, 2, 2, 2, 2, 2, 2, 2, 2, 2,\n",
       "       2, 2, 2, 2, 2, 2, 2, 2, 2, 2, 5, 2, 2, 2, 2, 2, 2, 2, 2, 2, 2, 2,\n",
       "       2, 2, 2, 2, 2, 2, 2, 2, 2, 2, 2, 3, 3, 3, 3, 3, 3, 3, 7, 3, 3, 3,\n",
       "       3, 3, 3, 3, 3, 3, 3, 3, 3, 3, 3, 3, 3, 3, 3, 3, 3, 3, 3, 3, 3, 3,\n",
       "       3, 3, 3, 3, 3, 3, 3, 3, 3, 3, 3, 3, 3, 3, 3, 0, 3, 3, 3, 3, 3, 3,\n",
       "       3, 3, 3, 3, 3, 3, 3, 7, 3, 3, 6, 3, 3, 3, 3, 3, 3, 4, 3, 3, 3, 3,\n",
       "       3, 3, 3, 3, 3, 3, 3, 3, 3, 3, 3, 6, 3, 3, 3, 3, 3, 3, 3, 3, 3, 4,\n",
       "       4, 4, 4, 4, 4, 4, 4, 4, 4, 4, 4, 4, 4, 4, 4, 7, 4, 4, 4, 4, 4, 4,\n",
       "       4, 4, 4, 6, 4, 4, 4, 4, 4, 4, 4, 4, 4, 4, 4, 4, 4, 4, 4, 4, 4, 4,\n",
       "       4, 4, 4, 4, 4, 7, 4, 4, 4, 4, 4, 4, 2, 4, 4, 4, 4, 4, 4, 4, 4, 4,\n",
       "       4, 4, 4, 4, 4, 4, 4, 4, 4, 4, 4, 4, 4, 4, 4, 4, 4, 4, 4, 4, 4, 4,\n",
       "       4, 4, 5, 4, 4, 4, 4, 4, 4, 4, 4, 4, 4, 4, 4, 4, 4, 4, 4, 4, 4, 2,\n",
       "       2, 5, 5, 2, 5, 5, 2, 2, 5, 5, 5, 5, 2, 5, 2, 2, 2, 2, 5, 2, 2, 2,\n",
       "       2, 5, 2, 5, 5, 5, 2, 2, 2, 5, 5, 2, 2, 5, 2, 5, 2, 5, 5, 5, 5, 5,\n",
       "       2, 2, 2, 2, 2, 5, 2, 2, 2, 4, 5, 5, 5, 5, 5, 5, 5, 2, 5, 2, 2, 5,\n",
       "       2, 2, 2, 5, 5, 4, 5, 2, 5, 2, 2, 2, 2, 2, 2, 5, 2, 5, 5, 2, 5, 2,\n",
       "       2, 5, 2, 2, 5, 5, 5, 2, 2, 2, 5, 5, 2, 5, 2, 2, 4, 3, 6, 3, 7, 6,\n",
       "       3, 3, 3, 3, 6, 6, 6, 6, 6, 3, 6, 7, 6, 6, 6, 6, 6, 6, 3, 3, 6, 6,\n",
       "       6, 6, 7, 6, 3, 4, 6, 3, 6, 6, 0, 6, 3, 6, 6, 3, 0, 6, 6, 6, 6, 3,\n",
       "       6, 6, 6, 7, 6, 7, 6, 6, 6, 6, 6, 6, 6, 3, 6, 6, 6, 7, 6, 3, 6, 6,\n",
       "       7, 0, 7, 3, 3, 7, 6, 6, 6, 7, 6, 6, 6, 7, 6, 4, 3, 4, 6, 3, 3, 6,\n",
       "       6, 3, 3, 3, 6, 6, 6, 1, 7, 7, 7, 7, 7, 7, 7, 6, 7, 7, 7, 7, 7, 7,\n",
       "       7, 6, 7, 7, 6, 7, 6, 7, 7, 7, 7, 7, 7, 7, 7, 7, 7, 7, 7, 3, 7, 3,\n",
       "       7, 6, 7, 7, 7, 3, 7, 0, 7, 7, 3, 7, 7, 7, 7, 7, 7, 6, 3, 7, 7, 7,\n",
       "       6, 7, 3, 7, 7, 7, 7, 7, 7, 7, 7, 2, 7, 7, 7, 7, 7, 3, 4, 7, 7, 3,\n",
       "       7, 7, 7, 7, 7, 7, 7, 7])"
      ]
     },
     "execution_count": 180,
     "metadata": {},
     "output_type": "execute_result"
    }
   ],
   "source": [
    "preds"
   ]
  },
  {
   "cell_type": "code",
   "execution_count": 56,
   "metadata": {
    "scrolled": true
   },
   "outputs": [
    {
     "data": {
      "image/png": "[encoded data removed]",
      "text/plain": [
       "<Figure size 432x288 with 2 Axes>"
      ]
     },
     "metadata": {
      "needs_background": "light"
     },
     "output_type": "display_data"
    }
   ],
   "source": [
    "matrix = confusion_matrix(test_gen.classes, preds)\n",
    "\n",
    "disp = ConfusionMatrixDisplay(confusion_matrix = matrix, display_labels = train_gen.class_indices)\n",
    "\n",
    "disp = disp.plot(cmap = plt.cm.Blues)\n",
    "\n",
    "plt.xticks(rotation = 90)\n",
    "\n",
    "plt.show()"
   ]
  },
  {
   "cell_type": "code",
   "execution_count": 57,
   "metadata": {},
   "outputs": [
    {
     "name": "stdout",
     "output_type": "stream",
     "text": [
      "[[ 79  16   0   1   0   1   1   1]\n",
      " [ 33  60   0   0   0   0   0   0]\n",
      " [  0   0  73   0   2  30   0   0]\n",
      " [  0   0   0  93   2   0   2   1]\n",
      " [  0   0   0   0 107   1   0   2]\n",
      " [  0   0   4   0   1 100   0   0]\n",
      " [  0   1   0  26   8   1  43  22]\n",
      " [  1   0   2  12   2   2   1  69]]\n"
     ]
    }
   ],
   "source": [
    "print(matrix)"
   ]
  },
  {
   "cell_type": "code",
   "execution_count": 53,
   "metadata": {},
   "outputs": [],
   "source": [
    "#Horizontal Line at Chance\n",
    "def show_final_history(history):\n",
    "    fig, ax = plt.subplots(1, 2, figsize=(15,5))\n",
    "    ax[0].set_title('loss')\n",
    "    ax[0].plot(history.epoch, history.history[\"loss\"], label=\"Train loss\")\n",
    "    ax[0].plot(history.epoch, history.history[\"val_loss\"], label=\"Validation loss\")\n",
    "    ax[0].set(xlim=(0, 200), ylim=(0, 2))\n",
    "    ax[0].set_xlabel('Epochs')\n",
    "    ax[1].set_title('acc')\n",
    "    ax[1].plot(history.epoch, history.history[\"acc\"], label=\"Train acc\")\n",
    "    ax[1].plot(history.epoch, history.history[\"val_acc\"], label=\"Validation acc\")\n",
    "    ax[1].set(xlim=(0, 200), ylim=(0, 1))\n",
    "    ax[1].set_xlabel('Epochs')\n",
    "    ax[0].legend()\n",
    "    ax[1].legend()"
   ]
  },
  {
   "cell_type": "code",
   "execution_count": 54,
   "metadata": {},
   "outputs": [
    {
     "data": {
      "image/png": "[encoded data removed]",
      "text/plain": [
       "<Figure size 1080x360 with 2 Axes>"
      ]
     },
     "metadata": {
      "needs_background": "light"
     },
     "output_type": "display_data"
    }
   ],
   "source": [
    "show_final_history(history)"
   ]
  },
  {
   "cell_type": "code",
   "execution_count": null,
   "metadata": {},
   "outputs": [],
   "source": []
  }
 ],
 "metadata": {
  "kernelspec": {
   "display_name": "Python 3",
   "language": "python",
   "name": "python3"
  },
  "language_info": {
   "codemirror_mode": {
    "name": "ipython",
    "version": 3
   },
   "file_extension": ".py",
   "mimetype": "text/x-python",
   "name": "python",
   "nbconvert_exporter": "python",
   "pygments_lexer": "ipython3",
   "version": "3.8.8"
  }
 },
 "nbformat": 4,
 "nbformat_minor": 2
}
