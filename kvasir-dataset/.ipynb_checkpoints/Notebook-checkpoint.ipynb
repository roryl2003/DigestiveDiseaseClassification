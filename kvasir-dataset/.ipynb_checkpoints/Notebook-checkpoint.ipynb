{
 "cells": [
  {
   "cell_type": "code",
   "execution_count": 2,
   "metadata": {},
   "outputs": [],
   "source": [
    "import os\n",
    "import copy\n",
    "from sklearn.model_selection import train_test_split\n",
    "from tqdm import tqdm_notebook as tqdm\n",
    "import glob\n",
    "import numpy as np\n",
    "import tensorflow as tf\n",
    "from skimage.io import imread, imsave\n",
    "from tensorflow.keras.preprocessing.image import ImageDataGenerator\n",
    "import matplotlib.pyplot as plt\n",
    "from sklearn.metrics import confusion_matrix, ConfusionMatrixDisplay, plot_confusion_matrix\n",
    "from sklearn import svm\n",
    "from PIL import Image"
   ]
  },
  {
   "cell_type": "code",
   "execution_count": 3,
   "metadata": {},
   "outputs": [],
   "source": [
    "src = '/Users/roryliao/Desktop/kvasir-dataset/Images'\n",
    "train_dir = '/Users/roryliao/Desktop/kvasir-dataset/Train'\n",
    "test_dir = '/Users/roryliao/Desktop/kvasir-dataset/Test'\n",
    "train_padded_dir = '/Users/roryliao/Desktop/kvasir-dataset/Train_Padded'\n",
    "test_padded_dir = '/Users/roryliao/Desktop/kvasir-dataset/Test_Padded'\n",
    "test_size = 0.2"
   ]
  },
  {
   "cell_type": "code",
   "execution_count": 23,
   "metadata": {},
   "outputs": [
    {
     "data": {
      "text/plain": [
       "4000"
      ]
     },
     "execution_count": 23,
     "metadata": {},
     "output_type": "execute_result"
    }
   ],
   "source": [
    "img_paths = glob.glob(os.path.join(src, '*/*.jpg'))\n",
    "parent_names = [os.path.basename(os.path.abspath(os.path.join(p, os.pardir))) for p in img_paths]\n",
    "labels = np.asarray([1 if p == 'dyed-lifted-polyps' else 0 if p == 'dyed-resection-margins' else 2 if p == 'esophagitis'\n",
    "                    else 3 if p == 'normal-cecum' else 4 if p == 'normal-pylorus' else 5 if p == 'normal-z-line'\n",
    "                    else 6 if p == 'polyps' else 7 for p in parent_names])\n",
    "imgs = np.asarray([imread(p) for p in img_paths])\n",
    "len(img_paths)"
   ]
  },
  {
   "cell_type": "code",
   "execution_count": 144,
   "metadata": {},
   "outputs": [],
   "source": [
    "x_train, x_test, y_train, y_test = train_test_split(imgs, labels, test_size = 0.2, random_state = 1)"
   ]
  },
  {
   "cell_type": "code",
   "execution_count": 145,
   "metadata": {},
   "outputs": [
    {
     "data": {
      "text/plain": [
       "array([2, 1, 6, 3, 1, 3, 5, 6, 1, 6, 2, 0, 1, 4, 1, 3, 2, 3, 1, 1, 1, 1,\n",
       "       7, 6, 0, 2, 2, 5, 5, 1, 4, 6, 2, 4, 2, 1, 6, 6, 5, 5, 1, 0, 6, 4,\n",
       "       0, 3, 0, 7, 4, 5, 5, 2, 6, 6, 2, 3, 6, 1, 5, 3, 6, 1, 6, 4, 3, 1,\n",
       "       4, 4, 2, 0, 6, 1, 1, 6, 5, 0, 4, 1, 1, 2, 3, 2, 2, 5, 7, 4, 4, 2,\n",
       "       6, 4, 2, 6, 5, 5, 0, 1, 0, 2, 7, 7, 0, 2, 2, 4, 6, 2, 7, 7, 5, 0,\n",
       "       0, 7, 4, 3, 2, 4, 2, 4, 2, 7, 4, 7, 4, 4, 5, 4, 5, 2, 7, 0, 1, 4,\n",
       "       5, 5, 5, 0, 6, 5, 5, 5, 5, 2, 7, 2, 1, 7, 5, 5, 4, 2, 5, 4, 7, 0,\n",
       "       6, 2, 1, 2, 0, 4, 0, 3, 4, 6, 5, 6, 5, 3, 3, 4, 6, 5, 6, 2, 7, 4,\n",
       "       6, 6, 4, 3, 2, 1, 5, 7, 6, 7, 6, 0, 6, 4, 1, 7, 0, 0, 2, 3, 3, 3,\n",
       "       5, 2, 5, 0, 2, 2, 3, 2, 7, 6, 5, 0, 2, 0, 3, 7, 5, 5, 0, 1, 2, 5,\n",
       "       4, 4, 0, 3, 5, 3, 5, 3, 0, 7, 5, 5, 3, 6, 5, 6, 5, 5, 5, 2, 3, 1,\n",
       "       1, 0, 7, 4, 3, 0, 0, 7, 7, 7, 2, 0, 3, 7, 5, 7, 3, 4, 1, 5, 1, 0,\n",
       "       4, 6, 6, 2, 5, 3, 6, 4, 5, 4, 2, 3, 3, 4, 4, 6, 3, 1, 7, 3, 0, 4,\n",
       "       3, 6, 7, 2, 2, 1, 3, 3, 1, 7, 3, 7, 4, 1, 3, 0, 6, 0, 1, 1, 5, 1,\n",
       "       3, 4, 0, 1, 6, 3, 7, 4, 6, 2, 1, 6, 4, 0, 3, 5, 0, 3, 2, 4, 2, 4,\n",
       "       2, 6, 6, 3, 0, 6, 6, 4, 2, 7, 3, 7, 3, 6, 1, 4, 1, 6, 1, 4, 5, 6,\n",
       "       0, 4, 6, 5, 6, 7, 2, 6, 5, 1, 0, 3, 2, 7, 0, 1, 0, 4, 0, 3, 4, 0,\n",
       "       3, 7, 5, 0, 0, 5, 5, 6, 4, 0, 4, 5, 3, 5, 2, 2, 4, 3, 0, 1, 2, 7,\n",
       "       3, 1, 2, 6, 3, 1, 5, 4, 2, 3, 1, 6, 3, 4, 2, 3, 0, 4, 4, 0, 5, 3,\n",
       "       3, 6, 2, 4, 0, 6, 5, 2, 1, 5, 4, 7, 7, 0, 3, 0, 3, 0, 6, 5, 4, 0,\n",
       "       2, 4, 6, 6, 7, 1, 6, 0, 3, 6, 6, 3, 6, 6, 7, 1, 6, 3, 0, 7, 3, 6,\n",
       "       4, 4, 1, 5, 1, 7, 7, 2, 5, 3, 7, 3, 0, 0, 2, 6, 4, 0, 1, 3, 2, 4,\n",
       "       6, 0, 6, 3, 1, 7, 6, 4, 3, 4, 5, 3, 7, 5, 5, 3, 6, 3, 2, 4, 4, 0,\n",
       "       3, 0, 4, 1, 2, 1, 3, 6, 2, 1, 5, 1, 4, 5, 5, 6, 7, 1, 2, 0, 2, 6,\n",
       "       5, 2, 0, 5, 3, 7, 7, 5, 4, 5, 0, 0, 4, 3, 4, 7, 2, 3, 4, 1, 2, 5,\n",
       "       4, 1, 5, 2, 4, 5, 6, 7, 7, 7, 2, 7, 7, 5, 2, 4, 4, 7, 7, 3, 6, 4,\n",
       "       1, 0, 6, 5, 1, 5, 2, 1, 6, 3, 6, 2, 6, 1, 0, 2, 5, 7, 0, 0, 6, 6,\n",
       "       4, 3, 1, 2, 2, 5, 0, 7, 1, 3, 1, 1, 3, 3, 6, 1, 1, 4, 1, 0, 1, 5,\n",
       "       0, 7, 3, 1, 2, 0, 1, 1, 5, 0, 2, 0, 1, 0, 7, 7, 3, 7, 7, 0, 4, 1,\n",
       "       6, 7, 3, 6, 2, 2, 3, 7, 6, 1, 5, 5, 0, 4, 7, 2, 7, 2, 4, 2, 4, 4,\n",
       "       2, 5, 4, 5, 2, 2, 5, 4, 2, 1, 6, 1, 1, 1, 5, 7, 2, 3, 5, 2, 7, 1,\n",
       "       1, 7, 4, 4, 2, 3, 4, 1, 6, 1, 3, 6, 7, 2, 5, 5, 4, 6, 1, 3, 5, 5,\n",
       "       4, 3, 3, 7, 4, 7, 6, 0, 4, 1, 0, 6, 1, 1, 4, 7, 0, 2, 0, 5, 4, 4,\n",
       "       7, 7, 7, 0, 7, 1, 6, 5, 5, 3, 6, 2, 6, 1, 0, 2, 7, 4, 4, 2, 5, 2,\n",
       "       0, 2, 2, 4, 4, 0, 2, 5, 4, 0, 6, 5, 3, 2, 6, 7, 6, 3, 3, 7, 7, 2,\n",
       "       7, 0, 4, 2, 1, 6, 0, 7, 3, 7, 1, 5, 5, 4, 1, 1, 4, 3, 4, 2, 0, 6,\n",
       "       3, 1, 5, 5, 6, 7, 4, 0])"
      ]
     },
     "execution_count": 145,
     "metadata": {},
     "output_type": "execute_result"
    }
   ],
   "source": [
    "y_test"
   ]
  },
  {
   "cell_type": "code",
   "execution_count": 86,
   "metadata": {},
   "outputs": [],
   "source": [
    "#len(y_train)"
   ]
  },
  {
   "cell_type": "code",
   "execution_count": null,
   "metadata": {},
   "outputs": [],
   "source": [
    "dyed_lifted_polyps_dir = os.path.join(train_padded_dir, 'dyed-lifted-polyps')\n",
    "dyed_resection_margins_dir = os.path.join(train_padded_dir, 'dyed-resection-margins')\n",
    "esophagitis_dir = os.path.join(train_padded_dir, 'esophagitis')\n",
    "normal_cecum_dir = os.path.join(train_padded_dir, 'normal-cecum')\n",
    "normal_pylorus_dir = os.path.join(train_padded_dir, 'normal-pylorus')\n",
    "normal_z_line_dir = os.path.join(train_padded_dir, 'normal-z-line')\n",
    "polyps_dir = os.path.join(train_padded_dir, 'polyps')\n",
    "ulcerative_colitis_dir = os.path.join(train_padded_dir, 'ulcerative-colitis')"
   ]
  },
  {
   "cell_type": "code",
   "execution_count": null,
   "metadata": {},
   "outputs": [],
   "source": [
    "os.makedirs(dyed_lifted_polyps_dir, exist_ok=True)\n",
    "os.makedirs(dyed_resection_margins_dir, exist_ok=True)\n",
    "os.makedirs(esophagitis_dir, exist_ok=True)\n",
    "os.makedirs(normal_cecum_dir, exist_ok=True)\n",
    "os.makedirs(normal_pylorus_dir, exist_ok=True)\n",
    "os.makedirs(normal_z_line_dir, exist_ok=True)\n",
    "os.makedirs(polyps_dir, exist_ok=True)\n",
    "os.makedirs(ulcerative_colitis_dir, exist_ok=True)"
   ]
  },
  {
   "cell_type": "code",
   "execution_count": null,
   "metadata": {},
   "outputs": [],
   "source": [
    "'''for i, (x, y) in enumerate(zip(x_train, y_train)):\n",
    "    if y == 0:\n",
    "        output_path = os.path.join(dyed_resection_margins_dir, f\"{i:06d}.jpg\")\n",
    "    elif y == 1:\n",
    "        output_path = os.path.join(dyed_lifted_polyps_dir, f\"{i:06d}.jpg\")\n",
    "    elif y == 2:\n",
    "        output_path = os.path.join(esophagitis_dir, f\"{i:06d}.jpg\")\n",
    "    elif y == 3:\n",
    "        output_path = os.path.join(normal_cecum_dir, f\"{i:06d}.jpg\")\n",
    "    elif y == 4:\n",
    "        output_path = os.path.join(normal_pylorus_dir, f\"{i:06d}.jpg\")\n",
    "    elif y == 5:\n",
    "        output_path = os.path.join(normal_z_line_dir, f\"{i:06d}.jpg\")\n",
    "    elif y == 6:\n",
    "        output_path = os.path.join(polyps_dir, f\"{i:06d}.jpg\")\n",
    "    else:\n",
    "        output_path = os.path.join(ulcerative_colitis_dir, f\"{i:06d}.jpg\")\n",
    "    imsave(output_path, x)'''"
   ]
  },
  {
   "cell_type": "code",
   "execution_count": 150,
   "metadata": {},
   "outputs": [],
   "source": [
    "dyed_lifted_polyps_dir = os.path.join(test_dir, 'dyed-lifted-polyps')\n",
    "dyed_resection_margins_dir = os.path.join(test_dir, 'dyed-resection-margins')\n",
    "esophagitis_dir = os.path.join(test_dir, 'esophagitis')\n",
    "normal_cecum_dir = os.path.join(test_dir, 'normal-cecum')\n",
    "normal_pylorus_dir = os.path.join(test_dir, 'normal-pylorus')\n",
    "normal_z_line_dir = os.path.join(test_dir, 'normal-z-line')\n",
    "polyps_dir = os.path.join(test_dir, 'polyps')\n",
    "ulcerative_colitis_dir = os.path.join(test_dir, 'ulcerative-colitis')"
   ]
  },
  {
   "cell_type": "code",
   "execution_count": 151,
   "metadata": {},
   "outputs": [],
   "source": [
    "os.makedirs(dyed_lifted_polyps_dir, exist_ok=True)\n",
    "os.makedirs(dyed_resection_margins_dir, exist_ok=True)\n",
    "os.makedirs(esophagitis_dir, exist_ok=True)\n",
    "os.makedirs(normal_cecum_dir, exist_ok=True)\n",
    "os.makedirs(normal_pylorus_dir, exist_ok=True)\n",
    "os.makedirs(normal_z_line_dir, exist_ok=True)\n",
    "os.makedirs(polyps_dir, exist_ok=True)\n",
    "os.makedirs(ulcerative_colitis_dir, exist_ok=True)"
   ]
  },
  {
   "cell_type": "code",
   "execution_count": 152,
   "metadata": {},
   "outputs": [],
   "source": [
    "'''for i, (x, y) in enumerate(zip(x_test, y_test)):\n",
    "    if y == 0:\n",
    "        output_path = os.path.join(dyed_resection_margins_dir, f\"{i:06d}.jpg\")\n",
    "    elif y == 1:\n",
    "        output_path = os.path.join(dyed_lifted_polyps_dir, f\"{i:06d}.jpg\")\n",
    "    elif y == 2:\n",
    "        output_path = os.path.join(esophagitis_dir, f\"{i:06d}.jpg\")\n",
    "    elif y == 3:\n",
    "        output_path = os.path.join(normal_cecum_dir, f\"{i:06d}.jpg\")\n",
    "    elif y == 4:\n",
    "        output_path = os.path.join(normal_pylorus_dir, f\"{i:06d}.jpg\")\n",
    "    elif y == 5:\n",
    "        output_path = os.path.join(normal_z_line_dir, f\"{i:06d}.jpg\")\n",
    "    elif y == 6:\n",
    "        output_path = os.path.join(polyps_dir, f\"{i:06d}.jpg\")\n",
    "    else:\n",
    "        output_path = os.path.join(ulcerative_colitis_dir, f\"{i:06d}.jpg\")\n",
    "    imsave(output_path, x)'''"
   ]
  },
  {
   "cell_type": "code",
   "execution_count": 4,
   "metadata": {},
   "outputs": [],
   "source": [
    "train_datagen = ImageDataGenerator(width_shift_range = 0.2, height_shift_range = 0.2, horizontal_flip = True, vertical_flip = True, rescale=1/255, rotation_range = 90, validation_split = 0.1)\n",
    "#Look up documentation. Look at creating new data using rotations\n",
    "test_datagen = ImageDataGenerator(rescale=1/255)"
   ]
  },
  {
   "cell_type": "code",
   "execution_count": 5,
   "metadata": {},
   "outputs": [
    {
     "name": "stdout",
     "output_type": "stream",
     "text": [
      "Found 2883 images belonging to 8 classes.\n",
      "Found 317 images belonging to 8 classes.\n",
      "Found 800 images belonging to 8 classes.\n"
     ]
    }
   ],
   "source": [
    "train_gen = train_datagen.flow_from_directory(train_dir, batch_size = 2, seed = 42, subset = 'training', target_size = (256, 256))\n",
    "val_gen = train_datagen.flow_from_directory(train_dir, batch_size = 2, seed = 42, subset = 'validation', target_size = (256, 256))\n",
    "test_gen = test_datagen.flow_from_directory(test_dir, batch_size = 2, shuffle = False, target_size = (256, 256))"
   ]
  },
  {
   "cell_type": "code",
   "execution_count": 9,
   "metadata": {},
   "outputs": [
    {
     "data": {
      "text/plain": [
       "{'dyed-lifted-polyps': 0,\n",
       " 'dyed-resection-margins': 1,\n",
       " 'esophagitis': 2,\n",
       " 'normal-cecum': 3,\n",
       " 'normal-pylorus': 4,\n",
       " 'normal-z-line': 5,\n",
       " 'polyps': 6,\n",
       " 'ulcerative-colitis': 7}"
      ]
     },
     "execution_count": 9,
     "metadata": {},
     "output_type": "execute_result"
    }
   ],
   "source": [
    "train_gen.class_indices"
   ]
  },
  {
   "cell_type": "code",
   "execution_count": null,
   "metadata": {},
   "outputs": [],
   "source": [
    "target_size = (1500, 1500)\n",
    "#Look into rescaling the images\n",
    "def pad_image(img, target_size):\n",
    "    img_padded = np.zeros((*target_size, 3), dtype=img.dtype)\n",
    "    center = np.asarray(img.shape[:2]) // 2\n",
    "    center_padded = np.asarray(target_size) // 2\n",
    "    start_padded = np.maximum(center_padded - center, np.zeros(2, np.int))\n",
    "    stop_padded = np.minimum(start_padded + np.asarray(img.shape[:2]), np.asarray(target_size))\n",
    "    start = np.maximum(np.zeros(2, np.int), center - center_padded)\n",
    "    stop = np.minimum(np.asarray(img.shape[:2]), start + np.asarray(target_size))\n",
    "    img_padded[start_padded[0]:stop_padded[0], start_padded[1]:stop_padded[1]] = img[start[0]:stop[0], start[1]:stop[1]]\n",
    "    return img_padded"
   ]
  },
  {
   "cell_type": "code",
   "execution_count": null,
   "metadata": {},
   "outputs": [],
   "source": [
    "padded_imgs = np.empty((len(img_paths), *target_size, 3), dtype=np.uint8)\n",
    "'''for i, path in tqdm(enumerate(img_paths), total=len(img_paths)):\n",
    "    img = imread(path)\n",
    "    img_padded = pad_image(img, target_size)\n",
    "    padded_imgs[i] = img_padded'''"
   ]
  },
  {
   "cell_type": "code",
   "execution_count": null,
   "metadata": {},
   "outputs": [],
   "source": [
    "padded_imgs.shape"
   ]
  },
  {
   "cell_type": "code",
   "execution_count": 139,
   "metadata": {},
   "outputs": [
    {
     "data": {
      "text/plain": [
       "((2, 256, 256, 3), (2, 8))"
      ]
     },
     "execution_count": 139,
     "metadata": {},
     "output_type": "execute_result"
    }
   ],
   "source": [
    "x,y = next(train_gen)\n",
    "x.shape, y.shape"
   ]
  },
  {
   "cell_type": "code",
   "execution_count": 31,
   "metadata": {},
   "outputs": [],
   "source": [
    "pool_size = (4,4)\n",
    "kernal_size = (1,1)\n",
    "#Look into Regularization\n",
    "#Decrease number of neurons in the Dense Layers\n",
    "#Look into Auto Encoders\n",
    "#Benchmark of 75%\n",
    "#Adding more dense layers\n",
    "\n",
    "x_in = tf.keras.layers.Input(shape=(256, 256, 3))\n",
    "\n",
    "x = tf.keras.layers.Conv2D(filters=16, kernel_size=kernal_size, activation='relu')(x_in)\n",
    "x = tf.keras.layers.BatchNormalization()(x)\n",
    "x = tf.keras.layers.MaxPool2D(pool_size=pool_size)(x)\n",
    "\n",
    "x = tf.keras.layers.Conv2D(filters=32, kernel_size=kernal_size, activation='relu')(x)\n",
    "x = tf.keras.layers.BatchNormalization()(x)\n",
    "x = tf.keras.layers.MaxPool2D(pool_size=pool_size)(x)\n",
    "\n",
    "x = tf.keras.layers.Conv2D(filters=64, kernel_size=kernal_size, activation='relu')(x)\n",
    "x = tf.keras.layers.BatchNormalization()(x)\n",
    "x = tf.keras.layers.MaxPool2D(pool_size=pool_size)(x)\n",
    "\n",
    "x = tf.keras.layers.Conv2D(filters=128, kernel_size=kernal_size, activation='relu')(x)\n",
    "x = tf.keras.layers.BatchNormalization()(x)\n",
    "x = tf.keras.layers.MaxPool2D(pool_size=pool_size)(x)\n",
    "\n",
    "x_flatten = tf.keras.layers.Flatten()(x)\n",
    "x = tf.keras.layers.Dense(24, activation='relu')(x_flatten)\n",
    "\n",
    "x_out = tf.keras.layers.Dense(8, activation='softmax')(x)"
   ]
  },
  {
   "cell_type": "code",
   "execution_count": 32,
   "metadata": {},
   "outputs": [
    {
     "name": "stdout",
     "output_type": "stream",
     "text": [
      "Model: \"model_3\"\n",
      "_________________________________________________________________\n",
      "Layer (type)                 Output Shape              Param #   \n",
      "=================================================================\n",
      "input_9 (InputLayer)         [(None, 256, 256, 3)]     0         \n",
      "_________________________________________________________________\n",
      "conv2d_30 (Conv2D)           (None, 256, 256, 16)      64        \n",
      "_________________________________________________________________\n",
      "batch_normalization_30 (Batc (None, 256, 256, 16)      64        \n",
      "_________________________________________________________________\n",
      "max_pooling2d_30 (MaxPooling (None, 64, 64, 16)        0         \n",
      "_________________________________________________________________\n",
      "conv2d_31 (Conv2D)           (None, 64, 64, 32)        544       \n",
      "_________________________________________________________________\n",
      "batch_normalization_31 (Batc (None, 64, 64, 32)        128       \n",
      "_________________________________________________________________\n",
      "max_pooling2d_31 (MaxPooling (None, 16, 16, 32)        0         \n",
      "_________________________________________________________________\n",
      "conv2d_32 (Conv2D)           (None, 16, 16, 64)        2112      \n",
      "_________________________________________________________________\n",
      "batch_normalization_32 (Batc (None, 16, 16, 64)        256       \n",
      "_________________________________________________________________\n",
      "max_pooling2d_32 (MaxPooling (None, 4, 4, 64)          0         \n",
      "_________________________________________________________________\n",
      "conv2d_33 (Conv2D)           (None, 4, 4, 128)         8320      \n",
      "_________________________________________________________________\n",
      "batch_normalization_33 (Batc (None, 4, 4, 128)         512       \n",
      "_________________________________________________________________\n",
      "max_pooling2d_33 (MaxPooling (None, 1, 1, 128)         0         \n",
      "_________________________________________________________________\n",
      "flatten_5 (Flatten)          (None, 128)               0         \n",
      "_________________________________________________________________\n",
      "dense_10 (Dense)             (None, 24)                3096      \n",
      "_________________________________________________________________\n",
      "dense_11 (Dense)             (None, 8)                 200       \n",
      "=================================================================\n",
      "Total params: 15,296\n",
      "Trainable params: 14,816\n",
      "Non-trainable params: 480\n",
      "_________________________________________________________________\n"
     ]
    }
   ],
   "source": [
    "model = tf.keras.Model(x_in, x_out)\n",
    "model.summary()"
   ]
  },
  {
   "cell_type": "code",
   "execution_count": 33,
   "metadata": {},
   "outputs": [],
   "source": [
    "model.compile(optimizer='adam', loss='categorical_crossentropy',metrics=['acc'])"
   ]
  },
  {
   "cell_type": "code",
   "execution_count": 9,
   "metadata": {},
   "outputs": [],
   "source": [
    "model.load_weights('/Users/roryliao/Desktop/kvasir-dataset/Weights.h5')"
   ]
  },
  {
   "cell_type": "code",
   "execution_count": 34,
   "metadata": {
    "scrolled": true
   },
   "outputs": [
    {
     "name": "stdout",
     "output_type": "stream",
     "text": [
      "Epoch 1/200\n",
      "1442/1442 [==============================] - 152s 105ms/step - loss: 1.5953 - acc: 0.3847 - val_loss: 1.1387 - val_acc: 0.4953\n",
      "Epoch 2/200\n",
      "1442/1442 [==============================] - 159s 110ms/step - loss: 1.2404 - acc: 0.4690 - val_loss: 1.0269 - val_acc: 0.4984\n",
      "Epoch 3/200\n",
      "1442/1442 [==============================] - 157s 109ms/step - loss: 1.1443 - acc: 0.5151 - val_loss: 0.8438 - val_acc: 0.5994\n",
      "Epoch 4/200\n",
      " 695/1442 [=============>................] - ETA: 1:19 - loss: 1.0371 - acc: 0.5515"
     ]
    },
    {
     "ename": "KeyboardInterrupt",
     "evalue": "",
     "output_type": "error",
     "traceback": [
      "\u001b[0;31m---------------------------------------------------------------------------\u001b[0m",
      "\u001b[0;31mKeyboardInterrupt\u001b[0m                         Traceback (most recent call last)",
      "\u001b[0;32m<ipython-input-34-55da8748ded1>\u001b[0m in \u001b[0;36m<module>\u001b[0;34m\u001b[0m\n\u001b[0;32m----> 1\u001b[0;31m \u001b[0mhistory\u001b[0m \u001b[0;34m=\u001b[0m \u001b[0mmodel\u001b[0m\u001b[0;34m.\u001b[0m\u001b[0mfit_generator\u001b[0m\u001b[0;34m(\u001b[0m\u001b[0mtrain_gen\u001b[0m\u001b[0;34m,\u001b[0m \u001b[0msteps_per_epoch\u001b[0m\u001b[0;34m=\u001b[0m\u001b[0mlen\u001b[0m\u001b[0;34m(\u001b[0m\u001b[0mtrain_gen\u001b[0m\u001b[0;34m)\u001b[0m\u001b[0;34m,\u001b[0m \u001b[0mepochs\u001b[0m\u001b[0;34m=\u001b[0m\u001b[0;36m200\u001b[0m\u001b[0;34m,\u001b[0m \u001b[0mvalidation_data\u001b[0m\u001b[0;34m=\u001b[0m\u001b[0mval_gen\u001b[0m\u001b[0;34m,\u001b[0m \u001b[0mvalidation_steps\u001b[0m\u001b[0;34m=\u001b[0m\u001b[0mlen\u001b[0m\u001b[0;34m(\u001b[0m\u001b[0mval_gen\u001b[0m\u001b[0;34m)\u001b[0m\u001b[0;34m)\u001b[0m\u001b[0;34m\u001b[0m\u001b[0;34m\u001b[0m\u001b[0m\n\u001b[0m",
      "\u001b[0;32m/anaconda3/lib/python3.7/site-packages/tensorflow/python/keras/engine/training.py\u001b[0m in \u001b[0;36mfit_generator\u001b[0;34m(self, generator, steps_per_epoch, epochs, verbose, callbacks, validation_data, validation_steps, validation_freq, class_weight, max_queue_size, workers, use_multiprocessing, shuffle, initial_epoch)\u001b[0m\n\u001b[1;32m   1431\u001b[0m         \u001b[0mshuffle\u001b[0m\u001b[0;34m=\u001b[0m\u001b[0mshuffle\u001b[0m\u001b[0;34m,\u001b[0m\u001b[0;34m\u001b[0m\u001b[0;34m\u001b[0m\u001b[0m\n\u001b[1;32m   1432\u001b[0m         \u001b[0minitial_epoch\u001b[0m\u001b[0;34m=\u001b[0m\u001b[0minitial_epoch\u001b[0m\u001b[0;34m,\u001b[0m\u001b[0;34m\u001b[0m\u001b[0;34m\u001b[0m\u001b[0m\n\u001b[0;32m-> 1433\u001b[0;31m         steps_name='steps_per_epoch')\n\u001b[0m\u001b[1;32m   1434\u001b[0m \u001b[0;34m\u001b[0m\u001b[0m\n\u001b[1;32m   1435\u001b[0m   def evaluate_generator(self,\n",
      "\u001b[0;32m/anaconda3/lib/python3.7/site-packages/tensorflow/python/keras/engine/training_generator.py\u001b[0m in \u001b[0;36mmodel_iteration\u001b[0;34m(model, data, steps_per_epoch, epochs, verbose, callbacks, validation_data, validation_steps, validation_freq, class_weight, max_queue_size, workers, use_multiprocessing, shuffle, initial_epoch, mode, batch_size, steps_name, **kwargs)\u001b[0m\n\u001b[1;32m    218\u001b[0m     \u001b[0mstep\u001b[0m \u001b[0;34m=\u001b[0m \u001b[0;36m0\u001b[0m\u001b[0;34m\u001b[0m\u001b[0;34m\u001b[0m\u001b[0m\n\u001b[1;32m    219\u001b[0m     \u001b[0;32mwhile\u001b[0m \u001b[0mstep\u001b[0m \u001b[0;34m<\u001b[0m \u001b[0mtarget_steps\u001b[0m\u001b[0;34m:\u001b[0m\u001b[0;34m\u001b[0m\u001b[0;34m\u001b[0m\u001b[0m\n\u001b[0;32m--> 220\u001b[0;31m       \u001b[0mbatch_data\u001b[0m \u001b[0;34m=\u001b[0m \u001b[0m_get_next_batch\u001b[0m\u001b[0;34m(\u001b[0m\u001b[0mgenerator\u001b[0m\u001b[0;34m,\u001b[0m \u001b[0mmode\u001b[0m\u001b[0;34m)\u001b[0m\u001b[0;34m\u001b[0m\u001b[0;34m\u001b[0m\u001b[0m\n\u001b[0m\u001b[1;32m    221\u001b[0m       \u001b[0;32mif\u001b[0m \u001b[0mbatch_data\u001b[0m \u001b[0;32mis\u001b[0m \u001b[0;32mNone\u001b[0m\u001b[0;34m:\u001b[0m\u001b[0;34m\u001b[0m\u001b[0;34m\u001b[0m\u001b[0m\n\u001b[1;32m    222\u001b[0m         \u001b[0;32mif\u001b[0m \u001b[0mis_dataset\u001b[0m\u001b[0;34m:\u001b[0m\u001b[0;34m\u001b[0m\u001b[0;34m\u001b[0m\u001b[0m\n",
      "\u001b[0;32m/anaconda3/lib/python3.7/site-packages/tensorflow/python/keras/engine/training_generator.py\u001b[0m in \u001b[0;36m_get_next_batch\u001b[0;34m(generator, mode)\u001b[0m\n\u001b[1;32m    360\u001b[0m   \u001b[0;34m\"\"\"Retrieves the next batch of input data.\"\"\"\u001b[0m\u001b[0;34m\u001b[0m\u001b[0;34m\u001b[0m\u001b[0m\n\u001b[1;32m    361\u001b[0m   \u001b[0;32mtry\u001b[0m\u001b[0;34m:\u001b[0m\u001b[0;34m\u001b[0m\u001b[0;34m\u001b[0m\u001b[0m\n\u001b[0;32m--> 362\u001b[0;31m     \u001b[0mgenerator_output\u001b[0m \u001b[0;34m=\u001b[0m \u001b[0mnext\u001b[0m\u001b[0;34m(\u001b[0m\u001b[0mgenerator\u001b[0m\u001b[0;34m)\u001b[0m\u001b[0;34m\u001b[0m\u001b[0;34m\u001b[0m\u001b[0m\n\u001b[0m\u001b[1;32m    363\u001b[0m   \u001b[0;32mexcept\u001b[0m \u001b[0;34m(\u001b[0m\u001b[0mStopIteration\u001b[0m\u001b[0;34m,\u001b[0m \u001b[0merrors\u001b[0m\u001b[0;34m.\u001b[0m\u001b[0mOutOfRangeError\u001b[0m\u001b[0;34m)\u001b[0m\u001b[0;34m:\u001b[0m\u001b[0;34m\u001b[0m\u001b[0;34m\u001b[0m\u001b[0m\n\u001b[1;32m    364\u001b[0m     \u001b[0;32mreturn\u001b[0m \u001b[0;32mNone\u001b[0m\u001b[0;34m\u001b[0m\u001b[0;34m\u001b[0m\u001b[0m\n",
      "\u001b[0;32m/anaconda3/lib/python3.7/site-packages/tensorflow/python/keras/utils/data_utils.py\u001b[0m in \u001b[0;36mget\u001b[0;34m(self)\u001b[0m\n\u001b[1;32m    777\u001b[0m     \u001b[0;32mtry\u001b[0m\u001b[0;34m:\u001b[0m\u001b[0;34m\u001b[0m\u001b[0;34m\u001b[0m\u001b[0m\n\u001b[1;32m    778\u001b[0m       \u001b[0;32mwhile\u001b[0m \u001b[0mself\u001b[0m\u001b[0;34m.\u001b[0m\u001b[0mis_running\u001b[0m\u001b[0;34m(\u001b[0m\u001b[0;34m)\u001b[0m\u001b[0;34m:\u001b[0m\u001b[0;34m\u001b[0m\u001b[0;34m\u001b[0m\u001b[0m\n\u001b[0;32m--> 779\u001b[0;31m         \u001b[0minputs\u001b[0m \u001b[0;34m=\u001b[0m \u001b[0mself\u001b[0m\u001b[0;34m.\u001b[0m\u001b[0mqueue\u001b[0m\u001b[0;34m.\u001b[0m\u001b[0mget\u001b[0m\u001b[0;34m(\u001b[0m\u001b[0mblock\u001b[0m\u001b[0;34m=\u001b[0m\u001b[0;32mTrue\u001b[0m\u001b[0;34m)\u001b[0m\u001b[0;34m.\u001b[0m\u001b[0mget\u001b[0m\u001b[0;34m(\u001b[0m\u001b[0;34m)\u001b[0m\u001b[0;34m\u001b[0m\u001b[0;34m\u001b[0m\u001b[0m\n\u001b[0m\u001b[1;32m    780\u001b[0m         \u001b[0mself\u001b[0m\u001b[0;34m.\u001b[0m\u001b[0mqueue\u001b[0m\u001b[0;34m.\u001b[0m\u001b[0mtask_done\u001b[0m\u001b[0;34m(\u001b[0m\u001b[0;34m)\u001b[0m\u001b[0;34m\u001b[0m\u001b[0;34m\u001b[0m\u001b[0m\n\u001b[1;32m    781\u001b[0m         \u001b[0;32mif\u001b[0m \u001b[0minputs\u001b[0m \u001b[0;32mis\u001b[0m \u001b[0;32mnot\u001b[0m \u001b[0;32mNone\u001b[0m\u001b[0;34m:\u001b[0m\u001b[0;34m\u001b[0m\u001b[0;34m\u001b[0m\u001b[0m\n",
      "\u001b[0;32m/anaconda3/lib/python3.7/multiprocessing/pool.py\u001b[0m in \u001b[0;36mget\u001b[0;34m(self, timeout)\u001b[0m\n\u001b[1;32m    649\u001b[0m \u001b[0;34m\u001b[0m\u001b[0m\n\u001b[1;32m    650\u001b[0m     \u001b[0;32mdef\u001b[0m \u001b[0mget\u001b[0m\u001b[0;34m(\u001b[0m\u001b[0mself\u001b[0m\u001b[0;34m,\u001b[0m \u001b[0mtimeout\u001b[0m\u001b[0;34m=\u001b[0m\u001b[0;32mNone\u001b[0m\u001b[0;34m)\u001b[0m\u001b[0;34m:\u001b[0m\u001b[0;34m\u001b[0m\u001b[0;34m\u001b[0m\u001b[0m\n\u001b[0;32m--> 651\u001b[0;31m         \u001b[0mself\u001b[0m\u001b[0;34m.\u001b[0m\u001b[0mwait\u001b[0m\u001b[0;34m(\u001b[0m\u001b[0mtimeout\u001b[0m\u001b[0;34m)\u001b[0m\u001b[0;34m\u001b[0m\u001b[0;34m\u001b[0m\u001b[0m\n\u001b[0m\u001b[1;32m    652\u001b[0m         \u001b[0;32mif\u001b[0m \u001b[0;32mnot\u001b[0m \u001b[0mself\u001b[0m\u001b[0;34m.\u001b[0m\u001b[0mready\u001b[0m\u001b[0;34m(\u001b[0m\u001b[0;34m)\u001b[0m\u001b[0;34m:\u001b[0m\u001b[0;34m\u001b[0m\u001b[0;34m\u001b[0m\u001b[0m\n\u001b[1;32m    653\u001b[0m             \u001b[0;32mraise\u001b[0m \u001b[0mTimeoutError\u001b[0m\u001b[0;34m\u001b[0m\u001b[0;34m\u001b[0m\u001b[0m\n",
      "\u001b[0;32m/anaconda3/lib/python3.7/multiprocessing/pool.py\u001b[0m in \u001b[0;36mwait\u001b[0;34m(self, timeout)\u001b[0m\n\u001b[1;32m    646\u001b[0m \u001b[0;34m\u001b[0m\u001b[0m\n\u001b[1;32m    647\u001b[0m     \u001b[0;32mdef\u001b[0m \u001b[0mwait\u001b[0m\u001b[0;34m(\u001b[0m\u001b[0mself\u001b[0m\u001b[0;34m,\u001b[0m \u001b[0mtimeout\u001b[0m\u001b[0;34m=\u001b[0m\u001b[0;32mNone\u001b[0m\u001b[0;34m)\u001b[0m\u001b[0;34m:\u001b[0m\u001b[0;34m\u001b[0m\u001b[0;34m\u001b[0m\u001b[0m\n\u001b[0;32m--> 648\u001b[0;31m         \u001b[0mself\u001b[0m\u001b[0;34m.\u001b[0m\u001b[0m_event\u001b[0m\u001b[0;34m.\u001b[0m\u001b[0mwait\u001b[0m\u001b[0;34m(\u001b[0m\u001b[0mtimeout\u001b[0m\u001b[0;34m)\u001b[0m\u001b[0;34m\u001b[0m\u001b[0;34m\u001b[0m\u001b[0m\n\u001b[0m\u001b[1;32m    649\u001b[0m \u001b[0;34m\u001b[0m\u001b[0m\n\u001b[1;32m    650\u001b[0m     \u001b[0;32mdef\u001b[0m \u001b[0mget\u001b[0m\u001b[0;34m(\u001b[0m\u001b[0mself\u001b[0m\u001b[0;34m,\u001b[0m \u001b[0mtimeout\u001b[0m\u001b[0;34m=\u001b[0m\u001b[0;32mNone\u001b[0m\u001b[0;34m)\u001b[0m\u001b[0;34m:\u001b[0m\u001b[0;34m\u001b[0m\u001b[0;34m\u001b[0m\u001b[0m\n",
      "\u001b[0;32m/anaconda3/lib/python3.7/threading.py\u001b[0m in \u001b[0;36mwait\u001b[0;34m(self, timeout)\u001b[0m\n\u001b[1;32m    550\u001b[0m             \u001b[0msignaled\u001b[0m \u001b[0;34m=\u001b[0m \u001b[0mself\u001b[0m\u001b[0;34m.\u001b[0m\u001b[0m_flag\u001b[0m\u001b[0;34m\u001b[0m\u001b[0;34m\u001b[0m\u001b[0m\n\u001b[1;32m    551\u001b[0m             \u001b[0;32mif\u001b[0m \u001b[0;32mnot\u001b[0m \u001b[0msignaled\u001b[0m\u001b[0;34m:\u001b[0m\u001b[0;34m\u001b[0m\u001b[0;34m\u001b[0m\u001b[0m\n\u001b[0;32m--> 552\u001b[0;31m                 \u001b[0msignaled\u001b[0m \u001b[0;34m=\u001b[0m \u001b[0mself\u001b[0m\u001b[0;34m.\u001b[0m\u001b[0m_cond\u001b[0m\u001b[0;34m.\u001b[0m\u001b[0mwait\u001b[0m\u001b[0;34m(\u001b[0m\u001b[0mtimeout\u001b[0m\u001b[0;34m)\u001b[0m\u001b[0;34m\u001b[0m\u001b[0;34m\u001b[0m\u001b[0m\n\u001b[0m\u001b[1;32m    553\u001b[0m             \u001b[0;32mreturn\u001b[0m \u001b[0msignaled\u001b[0m\u001b[0;34m\u001b[0m\u001b[0;34m\u001b[0m\u001b[0m\n\u001b[1;32m    554\u001b[0m \u001b[0;34m\u001b[0m\u001b[0m\n",
      "\u001b[0;32m/anaconda3/lib/python3.7/threading.py\u001b[0m in \u001b[0;36mwait\u001b[0;34m(self, timeout)\u001b[0m\n\u001b[1;32m    294\u001b[0m         \u001b[0;32mtry\u001b[0m\u001b[0;34m:\u001b[0m    \u001b[0;31m# restore state no matter what (e.g., KeyboardInterrupt)\u001b[0m\u001b[0;34m\u001b[0m\u001b[0;34m\u001b[0m\u001b[0m\n\u001b[1;32m    295\u001b[0m             \u001b[0;32mif\u001b[0m \u001b[0mtimeout\u001b[0m \u001b[0;32mis\u001b[0m \u001b[0;32mNone\u001b[0m\u001b[0;34m:\u001b[0m\u001b[0;34m\u001b[0m\u001b[0;34m\u001b[0m\u001b[0m\n\u001b[0;32m--> 296\u001b[0;31m                 \u001b[0mwaiter\u001b[0m\u001b[0;34m.\u001b[0m\u001b[0macquire\u001b[0m\u001b[0;34m(\u001b[0m\u001b[0;34m)\u001b[0m\u001b[0;34m\u001b[0m\u001b[0;34m\u001b[0m\u001b[0m\n\u001b[0m\u001b[1;32m    297\u001b[0m                 \u001b[0mgotit\u001b[0m \u001b[0;34m=\u001b[0m \u001b[0;32mTrue\u001b[0m\u001b[0;34m\u001b[0m\u001b[0;34m\u001b[0m\u001b[0m\n\u001b[1;32m    298\u001b[0m             \u001b[0;32melse\u001b[0m\u001b[0;34m:\u001b[0m\u001b[0;34m\u001b[0m\u001b[0;34m\u001b[0m\u001b[0m\n",
      "\u001b[0;31mKeyboardInterrupt\u001b[0m: "
     ]
    }
   ],
   "source": [
    "history = model.fit_generator(train_gen, steps_per_epoch=len(train_gen), epochs=200, validation_data=val_gen, validation_steps=len(val_gen))"
   ]
  },
  {
   "cell_type": "code",
   "execution_count": 22,
   "metadata": {},
   "outputs": [],
   "source": [
    "model.save_weights('/Users/roryliao/Desktop/kvasir-dataset/Weights4Layers.h5')"
   ]
  },
  {
   "cell_type": "code",
   "execution_count": 26,
   "metadata": {},
   "outputs": [
    {
     "name": "stdout",
     "output_type": "stream",
     "text": [
      "400/400 [==============================] - 10s 26ms/step\n"
     ]
    }
   ],
   "source": [
    "scores = model.predict(test_gen, verbose = 1)"
   ]
  },
  {
   "cell_type": "code",
   "execution_count": 21,
   "metadata": {},
   "outputs": [
    {
     "name": "stdout",
     "output_type": "stream",
     "text": [
      "400/400 [==============================] - 11s 27ms/step - loss: 0.6122 - acc: 0.8025\n"
     ]
    },
    {
     "data": {
      "text/plain": [
       "[0.6121530598390403, 0.8025]"
      ]
     },
     "execution_count": 21,
     "metadata": {},
     "output_type": "execute_result"
    }
   ],
   "source": [
    "model.evaluate(test_gen, verbose = 1)"
   ]
  },
  {
   "cell_type": "code",
   "execution_count": 27,
   "metadata": {},
   "outputs": [],
   "source": [
    "preds = np.argmax(scores, axis = 1)"
   ]
  },
  {
   "cell_type": "code",
   "execution_count": 180,
   "metadata": {
    "scrolled": true
   },
   "outputs": [
    {
     "data": {
      "text/plain": [
       "array([0, 0, 0, 0, 0, 0, 0, 0, 0, 3, 0, 0, 1, 0, 0, 1, 0, 0, 3, 0, 0, 0,\n",
       "       0, 0, 0, 0, 1, 0, 0, 0, 3, 0, 0, 1, 7, 6, 0, 1, 1, 0, 1, 0, 0, 0,\n",
       "       0, 0, 0, 0, 0, 0, 0, 0, 0, 0, 0, 0, 0, 1, 0, 6, 0, 0, 1, 0, 0, 0,\n",
       "       1, 0, 0, 0, 1, 0, 0, 1, 1, 1, 0, 0, 1, 0, 1, 1, 1, 1, 0, 1, 0, 1,\n",
       "       7, 0, 0, 3, 0, 0, 0, 0, 0, 0, 1, 1, 1, 7, 1, 0, 1, 1, 1, 1, 1, 1,\n",
       "       0, 0, 1, 1, 0, 0, 1, 1, 1, 1, 0, 1, 1, 1, 2, 0, 0, 1, 1, 1, 1, 1,\n",
       "       0, 0, 1, 0, 1, 0, 1, 1, 0, 1, 0, 1, 1, 1, 0, 1, 1, 1, 1, 0, 1, 0,\n",
       "       1, 1, 1, 1, 1, 0, 1, 1, 0, 1, 1, 1, 1, 1, 1, 0, 1, 1, 1, 1, 0, 0,\n",
       "       1, 1, 0, 1, 1, 1, 0, 0, 1, 0, 1, 0, 1, 1, 1, 0, 5, 2, 2, 2, 2, 2,\n",
       "       2, 2, 2, 5, 2, 2, 2, 2, 2, 2, 2, 2, 2, 2, 2, 2, 2, 2, 2, 2, 2, 2,\n",
       "       2, 2, 2, 2, 2, 2, 2, 2, 2, 2, 2, 2, 2, 2, 2, 5, 2, 2, 2, 2, 2, 2,\n",
       "       2, 2, 2, 2, 2, 2, 2, 2, 2, 2, 2, 2, 2, 2, 2, 2, 2, 2, 2, 2, 2, 2,\n",
       "       2, 2, 2, 2, 2, 2, 2, 2, 2, 2, 5, 2, 2, 2, 2, 2, 2, 2, 2, 2, 2, 2,\n",
       "       2, 2, 2, 2, 2, 2, 2, 2, 2, 2, 2, 3, 3, 3, 3, 3, 3, 3, 7, 3, 3, 3,\n",
       "       3, 3, 3, 3, 3, 3, 3, 3, 3, 3, 3, 3, 3, 3, 3, 3, 3, 3, 3, 3, 3, 3,\n",
       "       3, 3, 3, 3, 3, 3, 3, 3, 3, 3, 3, 3, 3, 3, 3, 0, 3, 3, 3, 3, 3, 3,\n",
       "       3, 3, 3, 3, 3, 3, 3, 7, 3, 3, 6, 3, 3, 3, 3, 3, 3, 4, 3, 3, 3, 3,\n",
       "       3, 3, 3, 3, 3, 3, 3, 3, 3, 3, 3, 6, 3, 3, 3, 3, 3, 3, 3, 3, 3, 4,\n",
       "       4, 4, 4, 4, 4, 4, 4, 4, 4, 4, 4, 4, 4, 4, 4, 7, 4, 4, 4, 4, 4, 4,\n",
       "       4, 4, 4, 6, 4, 4, 4, 4, 4, 4, 4, 4, 4, 4, 4, 4, 4, 4, 4, 4, 4, 4,\n",
       "       4, 4, 4, 4, 4, 7, 4, 4, 4, 4, 4, 4, 2, 4, 4, 4, 4, 4, 4, 4, 4, 4,\n",
       "       4, 4, 4, 4, 4, 4, 4, 4, 4, 4, 4, 4, 4, 4, 4, 4, 4, 4, 4, 4, 4, 4,\n",
       "       4, 4, 5, 4, 4, 4, 4, 4, 4, 4, 4, 4, 4, 4, 4, 4, 4, 4, 4, 4, 4, 2,\n",
       "       2, 5, 5, 2, 5, 5, 2, 2, 5, 5, 5, 5, 2, 5, 2, 2, 2, 2, 5, 2, 2, 2,\n",
       "       2, 5, 2, 5, 5, 5, 2, 2, 2, 5, 5, 2, 2, 5, 2, 5, 2, 5, 5, 5, 5, 5,\n",
       "       2, 2, 2, 2, 2, 5, 2, 2, 2, 4, 5, 5, 5, 5, 5, 5, 5, 2, 5, 2, 2, 5,\n",
       "       2, 2, 2, 5, 5, 4, 5, 2, 5, 2, 2, 2, 2, 2, 2, 5, 2, 5, 5, 2, 5, 2,\n",
       "       2, 5, 2, 2, 5, 5, 5, 2, 2, 2, 5, 5, 2, 5, 2, 2, 4, 3, 6, 3, 7, 6,\n",
       "       3, 3, 3, 3, 6, 6, 6, 6, 6, 3, 6, 7, 6, 6, 6, 6, 6, 6, 3, 3, 6, 6,\n",
       "       6, 6, 7, 6, 3, 4, 6, 3, 6, 6, 0, 6, 3, 6, 6, 3, 0, 6, 6, 6, 6, 3,\n",
       "       6, 6, 6, 7, 6, 7, 6, 6, 6, 6, 6, 6, 6, 3, 6, 6, 6, 7, 6, 3, 6, 6,\n",
       "       7, 0, 7, 3, 3, 7, 6, 6, 6, 7, 6, 6, 6, 7, 6, 4, 3, 4, 6, 3, 3, 6,\n",
       "       6, 3, 3, 3, 6, 6, 6, 1, 7, 7, 7, 7, 7, 7, 7, 6, 7, 7, 7, 7, 7, 7,\n",
       "       7, 6, 7, 7, 6, 7, 6, 7, 7, 7, 7, 7, 7, 7, 7, 7, 7, 7, 7, 3, 7, 3,\n",
       "       7, 6, 7, 7, 7, 3, 7, 0, 7, 7, 3, 7, 7, 7, 7, 7, 7, 6, 3, 7, 7, 7,\n",
       "       6, 7, 3, 7, 7, 7, 7, 7, 7, 7, 7, 2, 7, 7, 7, 7, 7, 3, 4, 7, 7, 3,\n",
       "       7, 7, 7, 7, 7, 7, 7, 7])"
      ]
     },
     "execution_count": 180,
     "metadata": {},
     "output_type": "execute_result"
    }
   ],
   "source": [
    "preds"
   ]
  },
  {
   "cell_type": "code",
   "execution_count": 35,
   "metadata": {
    "scrolled": true
   },
   "outputs": [
    {
     "data": {
      "image/png": "[encoded data removed]",
      "text/plain": [
       "<Figure size 432x288 with 2 Axes>"
      ]
     },
     "metadata": {
      "needs_background": "light"
     },
     "output_type": "display_data"
    }
   ],
   "source": [
    "matrix = confusion_matrix(test_gen.classes, preds)\n",
    "\n",
    "disp = ConfusionMatrixDisplay(confusion_matrix = matrix, display_labels = train_gen.class_indices)\n",
    "\n",
    "disp = disp.plot(cmap = plt.cm.Blues)\n",
    "\n",
    "plt.xticks(rotation = 90)\n",
    "\n",
    "plt.gca().invert_xaxis()\n",
    "\n",
    "plt.gca().invert_yaxis()\n",
    "\n",
    "plt.show()"
   ]
  },
  {
   "cell_type": "code",
   "execution_count": 81,
   "metadata": {},
   "outputs": [
    {
     "name": "stdout",
     "output_type": "stream",
     "text": [
      "[[ 7 15  6 14 15 23 13  0]\n",
      " [ 9 16  5 18  9 26 15  1]\n",
      " [10 16  5 19  8 33  8  6]\n",
      " [ 8 18  2 15 16 23 12  4]\n",
      " [12 21  4 17 13 26 15  2]\n",
      " [ 9 16  3 16 13 30 13  5]\n",
      " [ 5 18  3 12 18 22 21  2]\n",
      " [ 5 13  4 15 14 24 13  1]]\n"
     ]
    }
   ],
   "source": [
    "print(matrix)"
   ]
  },
  {
   "cell_type": "code",
   "execution_count": 184,
   "metadata": {},
   "outputs": [],
   "source": [
    "#Horizontal Line at Chance\n",
    "def show_final_history(history):\n",
    "    fig, ax = plt.subplots(1, 2, figsize=(15,5))\n",
    "    ax[0].set_title('loss')\n",
    "    ax[0].plot(history.epoch, history.history[\"loss\"], label=\"Train loss\")\n",
    "    ax[0].plot(history.epoch, history.history[\"val_loss\"], label=\"Validation loss\")\n",
    "    ax[0].set(xlim=(0, 70), ylim=(0.5, 2))\n",
    "    ax[0].set_xlabel('Epochs')\n",
    "    ax[1].set_title('acc')\n",
    "    ax[1].plot(history.epoch, history.history[\"acc\"], label=\"Train acc\")\n",
    "    ax[1].plot(history.epoch, history.history[\"val_acc\"], label=\"Validation acc\")\n",
    "    ax[1].set(xlim=(0, 70), ylim=(0, 1))\n",
    "    ax[1].set_xlabel('Epochs')\n",
    "    ax[0].legend()\n",
    "    ax[1].legend()"
   ]
  },
  {
   "cell_type": "code",
   "execution_count": 185,
   "metadata": {},
   "outputs": [
    {
     "data": {
      "image/png": "[encoded data removed]",
      "text/plain": [
       "<Figure size 1080x360 with 2 Axes>"
      ]
     },
     "metadata": {
      "needs_background": "light"
     },
     "output_type": "display_data"
    }
   ],
   "source": [
    "show_final_history(history)"
   ]
  },
  {
   "cell_type": "code",
   "execution_count": null,
   "metadata": {},
   "outputs": [],
   "source": []
  }
 ],
 "metadata": {
  "kernelspec": {
   "display_name": "Python 3",
   "language": "python",
   "name": "python3"
  },
  "language_info": {
   "codemirror_mode": {
    "name": "ipython",
    "version": 3
   },
   "file_extension": ".py",
   "mimetype": "text/x-python",
   "name": "python",
   "nbconvert_exporter": "python",
   "pygments_lexer": "ipython3",
   "version": "3.7.3"
  }
 },
 "nbformat": 4,
 "nbformat_minor": 2
}
